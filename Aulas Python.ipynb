{
 "cells": [
  {
   "cell_type": "markdown",
   "metadata": {},
   "source": [
    "Se eu quiser escrever nesse notebooks eu preciso alterar ali na barra de cima, selecionar markdown no lugar de code.\n",
    "\n",
    "Pra executar o codigo eu posso usar Shift+enter ou alt+enter\n",
    "* shift + enter executa e pula pro proximo\n",
    "* alt   + enter executa e adiciona um na sequencia \n",
    "\n",
    "\n",
    " Quando tiver fazendos os exercicios é bom usar o alt+enter pra não perder o resultado esperado\n",
    " \n",
    " Esses campos de textos servem como markdown tb\n",
    " \n",
    " Pra deletar um campo é só selecionar a celula que eu quero deletar e aperta dd\n"
   ]
  },
  {
   "cell_type": "code",
   "execution_count": 13,
   "metadata": {},
   "outputs": [
    {
     "data": {
      "text/plain": [
       "6"
      ]
     },
     "execution_count": 13,
     "metadata": {},
     "output_type": "execute_result"
    }
   ],
   "source": [
    "3+3"
   ]
  },
  {
   "cell_type": "code",
   "execution_count": 2,
   "metadata": {},
   "outputs": [
    {
     "name": "stdout",
     "output_type": "stream",
     "text": [
      "2\n"
     ]
    }
   ],
   "source": [
    "print(1+1)"
   ]
  },
  {
   "cell_type": "code",
   "execution_count": 14,
   "metadata": {},
   "outputs": [
    {
     "data": {
      "text/plain": [
       "'Shift+enter'"
      ]
     },
     "execution_count": 14,
     "metadata": {},
     "output_type": "execute_result"
    }
   ],
   "source": [
    "'Shift+enter'"
   ]
  },
  {
   "cell_type": "markdown",
   "metadata": {},
   "source": [
    "---\n",
    "### Criando Enviroments\n",
    "https://conda.io/projects/conda/en/latest/user-guide/tasks/manage-environments.html#creating-an-environment-with-commands\n",
    "\n",
    "Na anaconda, a gente consegue trabalhar com \"maquinas virtuais\", alterando as configurações do que tem nessas maquina.\n",
    "Pra criar uma a gente usa o comando \n",
    "\n",
    "``conda create --name NomedaMaquina Bibliteca``\n",
    "\n",
    "Ai no exemplo do video o cara cria uma usando o numpy ou seja:\n",
    "\n",
    "``conda create --name fluffy numpy``\n",
    "\n",
    "Isso cria a maquina, muda o inicio que fica no bash, e permite trabalhar em cima sem problemas,\n",
    "Se eu tento importar por exemplo o pandas nessa maquina ele não aceita.\n",
    "Funciona como o docker mais ou menos.\n",
    "Podemos usar \n",
    "\n",
    "``conda create -n Nome Biblioteca``\n",
    "\n",
    "Funciona da mesma forma.\n",
    "Depois que criou a maquina, pra ativar tem que usar o comando\n",
    "\n",
    "``conda activate NomedaMaquina``\n",
    "\n",
    "Ai ele começa a trabalhar nesse maquina.\n",
    "Pra desativar é só usar\n",
    "\n",
    "``conda desactivate nomedamaquina``\n",
    "\n",
    "E ele retorna pra maquina base\n",
    "\n",
    "Isso é util para criar environments com uma versão diferente do pyhton, seguindo a mesma logica de colocar só uma biblioteca de funçoes junto ou instalando delas separados\n",
    "\n",
    "``conda create -n myphyton3version python=3.5 anaconda ``\n",
    "\n",
    "Aqui ele vai instalar todos os pacotes do anaconda, na versão 3.5 do pyhton, depois que ativar da pra testar digitando ``python`` que o TTY avisa qual a versão da rodando, não precisa ser instalado todo o anaconda, pode ser só o numpy por exemplo\n",
    "\n",
    "Depois que eu criei todos os ambientes que eu quero, eu consigo ver quais estão criados com o comando\n",
    "\n",
    "``conda info --envs``\n",
    "\n",
    "\n",
    "---"
   ]
  },
  {
   "cell_type": "markdown",
   "metadata": {},
   "source": [
    "### Python Crash Course\n",
    "#### Operações Matematicas \n",
    "\n",
    "São dois tipos de numero, int e float\n",
    "\n",
    "- int é inteiro\n",
    "    - 1,2,3,4\n",
    "- float é float\n",
    "    - 1.0,2.5,3.4\n",
    "\n",
    "- Operações matematicas são feitas normalmente\n",
    "    - 1 + 1, 2 * 3, 1 /2 , 2 ** 4 \n",
    "    - Python interpreta na sequencia, ou seja, \n",
    "        - 2 + 3 * 5 + 5\n",
    "        \n",
    "        é diferente de \n",
    "        \n",
    "        \n",
    "        - (2 + 3) * (5 +5)\n",
    "        \n",
    "        Usar parentes para ordenar o momento que as operações ocorrem.\n",
    "\n",
    "\n",
    "    - 4 % 2 retorna o que sobra da divisão,\n",
    "        - Isso é util pra saber se numero é par por exemplo."
   ]
  },
  {
   "cell_type": "code",
   "execution_count": 1,
   "metadata": {},
   "outputs": [
    {
     "data": {
      "text/plain": [
       "0"
      ]
     },
     "execution_count": 1,
     "metadata": {},
     "output_type": "execute_result"
    }
   ],
   "source": [
    "4%2"
   ]
  },
  {
   "cell_type": "code",
   "execution_count": 2,
   "metadata": {},
   "outputs": [
    {
     "data": {
      "text/plain": [
       "1"
      ]
     },
     "execution_count": 2,
     "metadata": {},
     "output_type": "execute_result"
    }
   ],
   "source": [
    "5%2"
   ]
  },
  {
   "cell_type": "code",
   "execution_count": 3,
   "metadata": {},
   "outputs": [
    {
     "data": {
      "text/plain": [
       "2"
      ]
     },
     "execution_count": 3,
     "metadata": {},
     "output_type": "execute_result"
    }
   ],
   "source": [
    "2//1\n"
   ]
  },
  {
   "cell_type": "code",
   "execution_count": 4,
   "metadata": {},
   "outputs": [
    {
     "data": {
      "text/plain": [
       "4"
      ]
     },
     "execution_count": 4,
     "metadata": {},
     "output_type": "execute_result"
    }
   ],
   "source": [
    "8//2"
   ]
  },
  {
   "cell_type": "markdown",
   "metadata": {},
   "source": [
    "## Python Crash Course\n",
    "### Variaveis\n",
    "\n",
    "Funcionama só colocando o nome da variavel e um sinal de igual para ela guardar o conteudo que vem depois do igual\n",
    "\n",
    "``var = 2 ``\n",
    "\n",
    "Depois quando eu quiser chamar a variaveis com o conteudo todo é só usar o nome que foi digitado anteriormente.\n",
    "As operações de recursão tambem funcionam,\n",
    "Eu consigo reutilizar a variavel nela mesma para alterar o valor que ela tem dentro.\n",
    "\n",
    "`` x = x+x ``\n",
    "\n",
    "Por exemplo\n",
    "\n",
    "nome de variaveis não podem começar com numeros nem simbolos, começar com letra minuscula, pra usar dos nomes usar um underline"
   ]
  },
  {
   "cell_type": "code",
   "execution_count": 5,
   "metadata": {},
   "outputs": [],
   "source": [
    "var = 2"
   ]
  },
  {
   "cell_type": "code",
   "execution_count": 6,
   "metadata": {},
   "outputs": [
    {
     "data": {
      "text/plain": [
       "2"
      ]
     },
     "execution_count": 6,
     "metadata": {},
     "output_type": "execute_result"
    }
   ],
   "source": [
    "var"
   ]
  },
  {
   "cell_type": "code",
   "execution_count": 7,
   "metadata": {},
   "outputs": [],
   "source": [
    "x = 3\n",
    "y = 5"
   ]
  },
  {
   "cell_type": "code",
   "execution_count": 9,
   "metadata": {},
   "outputs": [
    {
     "data": {
      "text/plain": [
       "15"
      ]
     },
     "execution_count": 9,
     "metadata": {},
     "output_type": "execute_result"
    }
   ],
   "source": [
    "x * y"
   ]
  },
  {
   "cell_type": "code",
   "execution_count": 10,
   "metadata": {},
   "outputs": [],
   "source": [
    "x = x*x"
   ]
  },
  {
   "cell_type": "code",
   "execution_count": 11,
   "metadata": {},
   "outputs": [
    {
     "data": {
      "text/plain": [
       "9"
      ]
     },
     "execution_count": 11,
     "metadata": {},
     "output_type": "execute_result"
    }
   ],
   "source": [
    "x"
   ]
  },
  {
   "cell_type": "code",
   "execution_count": 12,
   "metadata": {},
   "outputs": [],
   "source": [
    "x += 2"
   ]
  },
  {
   "cell_type": "code",
   "execution_count": 13,
   "metadata": {},
   "outputs": [
    {
     "data": {
      "text/plain": [
       "11"
      ]
     },
     "execution_count": 13,
     "metadata": {},
     "output_type": "execute_result"
    }
   ],
   "source": [
    "x"
   ]
  },
  {
   "cell_type": "markdown",
   "metadata": {},
   "source": [
    "## Python Crash Course\n",
    "### Strings\n",
    "\n",
    "Começar com ' ' ou com \" \"\n",
    "Podemos usar aspas simples dentro das aspas duplas\n",
    "\n",
    "chamando só a variavel ele imprime na tela com as aspas que foram usadas para armazenar ela\n",
    "Agora quando usa o comando print ele mostra só conteudo mesmo.\n",
    "\n",
    "### Print\n",
    "O print aceita uso de variaveis dentro dos parenteses, sem concatenar o conteudo.\n",
    "Por exemplo\n",
    "Declaro a variavel\n",
    "\n",
    "``numero = 12\n",
    "nome = 'lucas' ``\n",
    "\n",
    "Depois eu junto tudo usando o format.\n",
    "\n",
    "``\n",
    "'Meu numero é {} e meu nome é {}'.format(numero, nome)``\n",
    "\n",
    "\n",
    "Aqui o comando format ocupa os {} com as variavies na ordem que elas foram chamadas no comando format.\n",
    "O format tb aceita tu popular dentro das {} com outras variaveis e depois declarar dentro do format o que a variavel tem, por exemplo\n",
    "\n",
    "``'Meu numero é {um} e meu nome é {dois}, além de {um}'.format(um=numero, dois = nome)``\n",
    "\n",
    "Isso facilita pra não se perder na hora que tiver populando um campo maior e tambem não precisa ser na ordem que elas aparecem, ou repetir as variaveis.\n",
    "\n",
    "### Index\n",
    "\n",
    "`` s = 'Hello'``\n",
    "\n",
    "Indexar é o ato de pegar o valor que esta sendo ocupado.\n",
    "Por exemplo\n",
    "\n",
    "``s[2]``\n",
    "\n",
    "Retorna l, pq l ta ocupando a posição 2 na variavel s que é populada pela string Hello.\n",
    "Vale lembrar que no python os index começam no zero que é o correto\n",
    "Podemos usar o sinal de negativo para trabalhar de traz pra frente na ordem. Por exemplo ``s[-1] `` retorna 'o' que é a ultima letra da String.\n",
    "Pra pegar pedaços da string é utilizado ``:`` por exemplo\n",
    "\n",
    "``s = 'abcdefghojk'``\n",
    "\n",
    "Depois quando utilizamos \n",
    "\n",
    "``s[0:]`` retorna todo do conteudo da string, partindo da primeira index.\n",
    "\n",
    "``s[:4]`` retorna ``abc`` ou seja, retorna todo o conteudo até o index 4 mas não incluindo o 4\n",
    "\n",
    "``s[1:4] `` retorna ``bcd`` ou seja, começando do 1 retorna tudo até o index 4, mas não incluindo o 4(pq começa no zero)\n",
    "\n",
    "### Lists\n",
    "\n",
    "é uma sequencia de elementos dentro de [] separados por virgulas\n",
    "Pode receber qualquer tipo de datatype\n",
    "``[1,2,3]`` ou ``['a','b','c']``\n",
    "\n",
    "Depois que criada para adicionar conteudo utilizamos o comando append.\n",
    "\n",
    "``lista = ['a','b','c']\n",
    "lista.append('d')``\n",
    "\n",
    "Ai quando chamamos a lista ele vai retornar\n",
    "\n",
    "``lista = ['a','b','c','d']``\n",
    "\n",
    "\n",
    "Cada conteudo da lista tem um index, ou seja ``lista[0]`` vai retornar ``'a'`` pq o a esta salvo no primeiro espaço da lista\n",
    "Podemos usar os ``:``, por exemplo ``lista[1:3]`` retorna ``['b', 'c']`` são incluindo o 3.\n",
    "\n",
    "Para mudar o conteudo de um item da lista, usamos\n",
    "\n",
    "``lista[1] = 'f'``\n",
    "\n",
    "Isso faz com coloque na posição ``1`` o conteudo ``'f'`` \n",
    "\n",
    "Podemos aninhar listas dentro de listas, por exemplo\n",
    "\n",
    "``n = [1,2,[3,4]]``\n",
    "\n",
    "Quando chamamos a lista ele retorna  ``[1,2,[3,4]]``\n",
    "Nessa situação para chamarmos um numero que ta dentro da lista usamos\n",
    "``n[2][1]`` que retorna ``4``\n",
    "\n",
    "Se eu não me engano isso é lista em 3d\n",
    "\n",
    "Isso adiciona camadas na lista\n",
    "por exemplo\n",
    "\n",
    "``n = [1,2,3,[4,5,['objetivo']]]``\n",
    "\n",
    "resulta em \n",
    "``1,2,3,[4,5,['objetivo']]``\n",
    "\n",
    "Mas ai se quero só o objetivo\n",
    "\n",
    "``n[3][2][0]``\n",
    "\n",
    "Ou podemos usar o print \n",
    "\n",
    "``print(n[3][2][0])``\n"
   ]
  },
  {
   "cell_type": "code",
   "execution_count": 14,
   "metadata": {
    "scrolled": true
   },
   "outputs": [
    {
     "data": {
      "text/plain": [
       "'1+1'"
      ]
     },
     "execution_count": 14,
     "metadata": {},
     "output_type": "execute_result"
    }
   ],
   "source": [
    "'1+1'"
   ]
  },
  {
   "cell_type": "code",
   "execution_count": 15,
   "metadata": {
    "scrolled": true
   },
   "outputs": [
    {
     "data": {
      "text/plain": [
       "'1+1'"
      ]
     },
     "execution_count": 15,
     "metadata": {},
     "output_type": "execute_result"
    }
   ],
   "source": [
    "\"1+1\""
   ]
  },
  {
   "cell_type": "code",
   "execution_count": 26,
   "metadata": {},
   "outputs": [
    {
     "data": {
      "text/plain": [
       "\"121'111\""
      ]
     },
     "execution_count": 26,
     "metadata": {},
     "output_type": "execute_result"
    }
   ],
   "source": [
    "\"121'111\""
   ]
  },
  {
   "cell_type": "code",
   "execution_count": null,
   "metadata": {},
   "outputs": [],
   "source": [
    "# Strings"
   ]
  },
  {
   "cell_type": "code",
   "execution_count": 17,
   "metadata": {},
   "outputs": [],
   "source": [
    "x = 'teste'"
   ]
  },
  {
   "cell_type": "code",
   "execution_count": 18,
   "metadata": {},
   "outputs": [
    {
     "data": {
      "text/plain": [
       "'teste'"
      ]
     },
     "execution_count": 18,
     "metadata": {},
     "output_type": "execute_result"
    }
   ],
   "source": [
    "x"
   ]
  },
  {
   "cell_type": "code",
   "execution_count": 19,
   "metadata": {},
   "outputs": [
    {
     "name": "stdout",
     "output_type": "stream",
     "text": [
      "teste\n"
     ]
    }
   ],
   "source": [
    "print(x)"
   ]
  },
  {
   "cell_type": "code",
   "execution_count": 21,
   "metadata": {},
   "outputs": [],
   "source": [
    "numero = 12\n",
    "nome = 'lucas'"
   ]
  },
  {
   "cell_type": "code",
   "execution_count": 22,
   "metadata": {},
   "outputs": [
    {
     "data": {
      "text/plain": [
       "'Meu numero é 12 e meu nome é lucas'"
      ]
     },
     "execution_count": 22,
     "metadata": {},
     "output_type": "execute_result"
    }
   ],
   "source": [
    "'Meu numero é {} e meu nome é {}'.format(numero, nome)"
   ]
  },
  {
   "cell_type": "code",
   "execution_count": 23,
   "metadata": {},
   "outputs": [
    {
     "name": "stdout",
     "output_type": "stream",
     "text": [
      "Meu numero é 12 e meu nome é lucas\n"
     ]
    }
   ],
   "source": [
    "print('Meu numero é {} e meu nome é {}'.format(numero, nome))"
   ]
  },
  {
   "cell_type": "code",
   "execution_count": 24,
   "metadata": {},
   "outputs": [
    {
     "data": {
      "text/plain": [
       "'Meu numero é 12 e meu nome é lucas'"
      ]
     },
     "execution_count": 24,
     "metadata": {},
     "output_type": "execute_result"
    }
   ],
   "source": [
    "'Meu numero é {um} e meu nome é {dois}'.format(um=numero, dois = nome)"
   ]
  },
  {
   "cell_type": "code",
   "execution_count": 25,
   "metadata": {},
   "outputs": [
    {
     "name": "stdout",
     "output_type": "stream",
     "text": [
      "Meu numero é 12 e meu nome é lucas\n"
     ]
    }
   ],
   "source": [
    "print('Meu numero é {um} e meu nome é {dois}'.format(um=numero, dois = nome))"
   ]
  },
  {
   "cell_type": "code",
   "execution_count": 27,
   "metadata": {},
   "outputs": [],
   "source": [
    "# index"
   ]
  },
  {
   "cell_type": "code",
   "execution_count": 28,
   "metadata": {},
   "outputs": [],
   "source": [
    "s = 'hello'"
   ]
  },
  {
   "cell_type": "code",
   "execution_count": 29,
   "metadata": {},
   "outputs": [
    {
     "data": {
      "text/plain": [
       "'l'"
      ]
     },
     "execution_count": 29,
     "metadata": {},
     "output_type": "execute_result"
    }
   ],
   "source": [
    "s[2]"
   ]
  },
  {
   "cell_type": "code",
   "execution_count": 30,
   "metadata": {},
   "outputs": [
    {
     "data": {
      "text/plain": [
       "'o'"
      ]
     },
     "execution_count": 30,
     "metadata": {},
     "output_type": "execute_result"
    }
   ],
   "source": [
    "s[-1]"
   ]
  },
  {
   "cell_type": "code",
   "execution_count": 31,
   "metadata": {},
   "outputs": [],
   "source": [
    "s = 'abcdefghojk'"
   ]
  },
  {
   "cell_type": "code",
   "execution_count": 36,
   "metadata": {},
   "outputs": [
    {
     "data": {
      "text/plain": [
       "'b'"
      ]
     },
     "execution_count": 36,
     "metadata": {},
     "output_type": "execute_result"
    }
   ],
   "source": [
    "s[1]"
   ]
  },
  {
   "cell_type": "code",
   "execution_count": 37,
   "metadata": {},
   "outputs": [
    {
     "data": {
      "text/plain": [
       "'abcdefghojk'"
      ]
     },
     "execution_count": 37,
     "metadata": {},
     "output_type": "execute_result"
    }
   ],
   "source": [
    "s[0:]"
   ]
  },
  {
   "cell_type": "code",
   "execution_count": 35,
   "metadata": {},
   "outputs": [
    {
     "data": {
      "text/plain": [
       "'abcd'"
      ]
     },
     "execution_count": 35,
     "metadata": {},
     "output_type": "execute_result"
    }
   ],
   "source": [
    "s[:4]"
   ]
  },
  {
   "cell_type": "code",
   "execution_count": 38,
   "metadata": {},
   "outputs": [
    {
     "data": {
      "text/plain": [
       "'bcd'"
      ]
     },
     "execution_count": 38,
     "metadata": {},
     "output_type": "execute_result"
    }
   ],
   "source": [
    "s[1:4]"
   ]
  },
  {
   "cell_type": "code",
   "execution_count": 39,
   "metadata": {},
   "outputs": [],
   "source": [
    "# Listas"
   ]
  },
  {
   "cell_type": "code",
   "execution_count": 41,
   "metadata": {},
   "outputs": [],
   "source": [
    "lista = ['a','b','c']"
   ]
  },
  {
   "cell_type": "code",
   "execution_count": 42,
   "metadata": {},
   "outputs": [
    {
     "data": {
      "text/plain": [
       "['a', 'b', 'c']"
      ]
     },
     "execution_count": 42,
     "metadata": {},
     "output_type": "execute_result"
    }
   ],
   "source": [
    "lista"
   ]
  },
  {
   "cell_type": "code",
   "execution_count": 43,
   "metadata": {},
   "outputs": [],
   "source": [
    "lista.append('d')"
   ]
  },
  {
   "cell_type": "code",
   "execution_count": 44,
   "metadata": {},
   "outputs": [
    {
     "data": {
      "text/plain": [
       "['a', 'b', 'c', 'd']"
      ]
     },
     "execution_count": 44,
     "metadata": {},
     "output_type": "execute_result"
    }
   ],
   "source": [
    "lista"
   ]
  },
  {
   "cell_type": "code",
   "execution_count": 45,
   "metadata": {},
   "outputs": [
    {
     "data": {
      "text/plain": [
       "'a'"
      ]
     },
     "execution_count": 45,
     "metadata": {},
     "output_type": "execute_result"
    }
   ],
   "source": [
    "lista[0]"
   ]
  },
  {
   "cell_type": "code",
   "execution_count": 46,
   "metadata": {},
   "outputs": [
    {
     "data": {
      "text/plain": [
       "['b', 'c']"
      ]
     },
     "execution_count": 46,
     "metadata": {},
     "output_type": "execute_result"
    }
   ],
   "source": [
    "lista[1:3]"
   ]
  },
  {
   "cell_type": "code",
   "execution_count": 47,
   "metadata": {},
   "outputs": [],
   "source": [
    "lista[1] = 'f'"
   ]
  },
  {
   "cell_type": "code",
   "execution_count": 48,
   "metadata": {},
   "outputs": [
    {
     "data": {
      "text/plain": [
       "['a', 'f', 'c', 'd']"
      ]
     },
     "execution_count": 48,
     "metadata": {},
     "output_type": "execute_result"
    }
   ],
   "source": [
    "lista"
   ]
  },
  {
   "cell_type": "code",
   "execution_count": 2,
   "metadata": {},
   "outputs": [],
   "source": [
    "n = [1,2,3,[4,5,['objetivo']]]\n"
   ]
  },
  {
   "cell_type": "code",
   "execution_count": 3,
   "metadata": {},
   "outputs": [
    {
     "data": {
      "text/plain": [
       "'objetivo'"
      ]
     },
     "execution_count": 3,
     "metadata": {},
     "output_type": "execute_result"
    }
   ],
   "source": [
    "n[3][2][0]"
   ]
  },
  {
   "cell_type": "code",
   "execution_count": 4,
   "metadata": {},
   "outputs": [
    {
     "name": "stdout",
     "output_type": "stream",
     "text": [
      "objetivo\n"
     ]
    }
   ],
   "source": [
    "print(n[3][2][0])"
   ]
  },
  {
   "cell_type": "markdown",
   "metadata": {},
   "source": [
    "### Dicionarios\n",
    "\n",
    "Dicionarios funcionam mais ou menos como uma lista, mas onde tu precisa setar o index.\n",
    "Onde em uma lista tu poderia simplesmente declara ``lista = [1, 2, 4]`` em um dicionario precisa declara a index tambem\n",
    "ou seja\n",
    "\n",
    "``dicionario = {'index1':'conteudo1','index2':'conteudo2'}``\n",
    "\n",
    "Não precisa ser ordenado, mas precisa ser nessa orientação, index dois pontos valor.\n",
    "\n",
    "Depois que populado ele funciona como uma lista, podendo chamar os valores com []\n",
    "\n",
    "``dicionario[0]`` resulta em nada, pq não tem nada populado na index 0,\n",
    " agora se a gente usar `` dicionario['index1']`` ele retorna ``'conteudo1'``.\n",
    " \n",
    " Os dicionarios podem receber qualquer tipo de dado como conteudo, podemos ter situações por exemplo usando uma lista\n",
    " \n",
    " `` dicionario = {'value':[1, 2, 3]}``\n",
    " \n",
    "Nessa situação quando chamar a index value no dicionario, ele vai retornar a lista inteira. Podemos ai especificar qual posição a gente quer dessa lista\n",
    "\n",
    "``dicionario['value'][1]`` retorna ``2``  por ser o segundo valor contido na lista que é o elemento presente na index value do dicionario.\n",
    " \n",
    " "
   ]
  },
  {
   "cell_type": "code",
   "execution_count": null,
   "metadata": {},
   "outputs": [],
   "source": []
  },
  {
   "cell_type": "code",
   "execution_count": 7,
   "metadata": {},
   "outputs": [],
   "source": [
    "dicionario = {'index1': 'conteudo1', 'index2':'conteudo2'}"
   ]
  },
  {
   "cell_type": "code",
   "execution_count": 6,
   "metadata": {},
   "outputs": [
    {
     "ename": "KeyError",
     "evalue": "0",
     "output_type": "error",
     "traceback": [
      "\u001b[1;31m---------------------------------------------------------------------------\u001b[0m",
      "\u001b[1;31mKeyError\u001b[0m                                  Traceback (most recent call last)",
      "\u001b[1;32m<ipython-input-6-ab1248cb079b>\u001b[0m in \u001b[0;36m<module>\u001b[1;34m\u001b[0m\n\u001b[1;32m----> 1\u001b[1;33m \u001b[0mdicionario\u001b[0m\u001b[1;33m[\u001b[0m\u001b[1;36m0\u001b[0m\u001b[1;33m]\u001b[0m\u001b[1;33m\u001b[0m\u001b[1;33m\u001b[0m\u001b[0m\n\u001b[0m",
      "\u001b[1;31mKeyError\u001b[0m: 0"
     ]
    }
   ],
   "source": [
    "dicionario[0] #aqui deu erro pq ele não tem nada populado na index 0"
   ]
  },
  {
   "cell_type": "code",
   "execution_count": 8,
   "metadata": {},
   "outputs": [
    {
     "data": {
      "text/plain": [
       "'conteudo1'"
      ]
     },
     "execution_count": 8,
     "metadata": {},
     "output_type": "execute_result"
    }
   ],
   "source": [
    "dicionario['index1']"
   ]
  },
  {
   "cell_type": "code",
   "execution_count": 11,
   "metadata": {},
   "outputs": [],
   "source": [
    "dicionario = {'value':[1, 2, 3]}"
   ]
  },
  {
   "cell_type": "code",
   "execution_count": 13,
   "metadata": {},
   "outputs": [
    {
     "data": {
      "text/plain": [
       "2"
      ]
     },
     "execution_count": 13,
     "metadata": {},
     "output_type": "execute_result"
    }
   ],
   "source": [
    "dicionario['value'][1]"
   ]
  },
  {
   "cell_type": "markdown",
   "metadata": {},
   "source": [
    "### Booleans\n",
    "\n",
    "Temos o True e o False,\n",
    "Sempre com a primeira letra maiscula"
   ]
  },
  {
   "cell_type": "code",
   "execution_count": 14,
   "metadata": {},
   "outputs": [
    {
     "data": {
      "text/plain": [
       "True"
      ]
     },
     "execution_count": 14,
     "metadata": {},
     "output_type": "execute_result"
    }
   ],
   "source": [
    "True"
   ]
  },
  {
   "cell_type": "code",
   "execution_count": 15,
   "metadata": {},
   "outputs": [
    {
     "data": {
      "text/plain": [
       "False"
      ]
     },
     "execution_count": 15,
     "metadata": {},
     "output_type": "execute_result"
    }
   ],
   "source": [
    "False"
   ]
  },
  {
   "cell_type": "markdown",
   "metadata": {},
   "source": [
    "### Tuplas\n",
    "\n",
    "Funciona de forma similar a listas, mas usa parenteses para declarar o conteudo\n",
    "\n",
    "``tupla = (1, 2, 5)`` \n",
    "\n",
    "nas listas, usando o index, podemos trocar o conteudo que ta na posição. na tupla não é possivel \n",
    "Ou seja, na tupla uma vez que foi setado o conteudo não podemos mudar.\n",
    "\n"
   ]
  },
  {
   "cell_type": "markdown",
   "metadata": {},
   "source": [
    "### SET\n",
    "set é uma lista de elementos unicos, \n",
    "usa os {} que nem nos dicionarios mas sem o index\n",
    "\n",
    "``s = {1,3,4}``\n",
    "\n",
    "guarda os valores 1,3 e 4 dentro de um set.\n",
    "Agora, se tentarmos passar \n",
    "``s = {1,1,1,1,1,3,3,3,3,3,4,4,4,4,4}```\n",
    "\n",
    "Vai ficar armazenado apenas os elementos ``{1, 3 , 4}``\n",
    "\n",
    "Podemos usar em forma de função tambem, pasando uma lista por exemplo\n",
    "\n",
    "``set([1,1,1,1,4,4,4,4,4,4,6,6,6,6,6,6])``\n",
    "\n",
    "E vai retornar apenas os valores unicos, ou seja\n",
    "``{1, 4, 6}``\n",
    "\n",
    "depois que temos um set formado, podemos adicionar elementos usando a função ``.add``\n",
    "\n",
    "``s = {1,4,7}``\n",
    "\n",
    "ai queremos adicionar um 3, ficando o seguinte \n",
    "``s.add(3)``"
   ]
  },
  {
   "cell_type": "markdown",
   "metadata": {},
   "source": [
    "### Operadores de comparação\n",
    "\n",
    "Operadores matematicos normais, ou seja\n",
    "``> < <= == !=``\n",
    "\n",
    "Podemos usar para numeros, funções e strings\n",
    "\n",
    "\n",
    " `` and (ambas condições tem que ser verdadeiras)\n",
    " or ( uma delas deve ser verdadeira)\n",
    " \n",
    " ``"
   ]
  },
  {
   "cell_type": "code",
   "execution_count": 16,
   "metadata": {},
   "outputs": [
    {
     "data": {
      "text/plain": [
       "False"
      ]
     },
     "execution_count": 16,
     "metadata": {},
     "output_type": "execute_result"
    }
   ],
   "source": [
    "( 1 > 3) and (3 > 4)"
   ]
  },
  {
   "cell_type": "code",
   "execution_count": 17,
   "metadata": {},
   "outputs": [
    {
     "data": {
      "text/plain": [
       "False"
      ]
     },
     "execution_count": 17,
     "metadata": {},
     "output_type": "execute_result"
    }
   ],
   "source": [
    "( 5> 3) and (3 > 4)"
   ]
  },
  {
   "cell_type": "code",
   "execution_count": 18,
   "metadata": {},
   "outputs": [
    {
     "data": {
      "text/plain": [
       "True"
      ]
     },
     "execution_count": 18,
     "metadata": {},
     "output_type": "execute_result"
    }
   ],
   "source": [
    "( 5 > 3) and (5 > 4)"
   ]
  },
  {
   "cell_type": "code",
   "execution_count": 1,
   "metadata": {},
   "outputs": [
    {
     "data": {
      "text/plain": [
       "True"
      ]
     },
     "execution_count": 1,
     "metadata": {},
     "output_type": "execute_result"
    }
   ],
   "source": [
    "(5 > 3) or (2 == 2 )"
   ]
  },
  {
   "cell_type": "code",
   "execution_count": 2,
   "metadata": {},
   "outputs": [
    {
     "data": {
      "text/plain": [
       "False"
      ]
     },
     "execution_count": 2,
     "metadata": {},
     "output_type": "execute_result"
    }
   ],
   "source": [
    "(3 < 2 ) or (2 < 1)"
   ]
  },
  {
   "cell_type": "markdown",
   "metadata": {},
   "source": [
    "### IF ELIF ELSE \n",
    "\n",
    "#### IF\n",
    "`` if 1 > 2:\n",
    "    print('yep')``\n",
    "\n",
    "Caso a operação seja verdadeira ele vai executar o codigo,\n",
    "é importante utilziar a indententação pro python saber que aquele é o bloco que ele ta se referindo\n",
    "\n",
    "#### ELSE\n",
    "\n",
    "``if 1 == 2:\n",
    "    print('First')\n",
    "else:\n",
    "    print('Last')``\n",
    "   \n",
    "Aqui a verificação passa pelo if, se for verdadeiro ele usa o bloco de codigo que ta abaixo, se for falso ele manda o que ta no else.\n",
    "\n",
    "\n",
    "#### ELIF\n",
    "\n",
    "`` if 1 == 3:\n",
    "    print('First')\n",
    "elif 3 == 4:\n",
    "    print('middle')\n",
    "else:\n",
    "    print('last')\n",
    "``\n",
    "\n",
    "O elif funciona quando queremos fazer comparação com mais de 2 objetos, ele vai fazer a comparação na sequencia que foi declarado, na primeira que funcionar, ele para e executa o bloco de codigo.\n",
    "Podemos colocar quantos elifs a gente quiser"
   ]
  },
  {
   "cell_type": "code",
   "execution_count": 5,
   "metadata": {},
   "outputs": [],
   "source": [
    "if 1 > 2:\n",
    "    print('yep')"
   ]
  },
  {
   "cell_type": "code",
   "execution_count": 6,
   "metadata": {},
   "outputs": [
    {
     "name": "stdout",
     "output_type": "stream",
     "text": [
      "Last\n"
     ]
    }
   ],
   "source": [
    "if 1 == 2:\n",
    "    print('First')\n",
    "else:\n",
    "    print('Last')"
   ]
  },
  {
   "cell_type": "code",
   "execution_count": 11,
   "metadata": {},
   "outputs": [
    {
     "name": "stdout",
     "output_type": "stream",
     "text": [
      "middle2\n"
     ]
    }
   ],
   "source": [
    "if 1 == 3:\n",
    "    print('First')\n",
    "elif 3 == 2:\n",
    "    print('middle1')\n",
    "elif 3 == 3:\n",
    "    print('middle2')\n",
    "else:\n",
    "    print('last')\n",
    "    "
   ]
  },
  {
   "cell_type": "code",
   "execution_count": 13,
   "metadata": {
    "scrolled": true
   },
   "outputs": [
    {
     "name": "stdout",
     "output_type": "stream",
     "text": [
      "last\n"
     ]
    }
   ],
   "source": [
    "if 1 == 3:\n",
    "    print('First')\n",
    "elif 3 == 2:\n",
    "    print('middle1')\n",
    "else:\n",
    "    print('last')"
   ]
  },
  {
   "cell_type": "markdown",
   "metadata": {},
   "source": [
    "### FOR\n",
    "\n",
    "``seq = [1,2,3,4,5]\n",
    "for item in seq:\n",
    "    print(item) ``\n",
    "\n",
    "Aqui nesse código, o termo ``item`` pode ser qualquer termo, uma variavel temporaria, é bom e é um bom uso colocar algo relacionado, nesse situação seria bom colocar ``num`` por ser uma lista de numeros.\n",
    "A função que ta sendo executada para cada item na lista não precisa obrigatoriamente ter relação com a lista, por exemplo:\n",
    "\n",
    "``seq = [1,2,3]\n",
    "for num in seq:\n",
    "    print('hello') ``\n",
    "    \n",
    "Que vai resultar em a palavra hello ser printada 3 vezes na tela.\n",
    " \n"
   ]
  },
  {
   "cell_type": "code",
   "execution_count": 14,
   "metadata": {},
   "outputs": [],
   "source": [
    "seq = [1,2,3,4,5]"
   ]
  },
  {
   "cell_type": "code",
   "execution_count": 15,
   "metadata": {},
   "outputs": [
    {
     "name": "stdout",
     "output_type": "stream",
     "text": [
      "1\n",
      "2\n",
      "3\n",
      "4\n",
      "5\n"
     ]
    }
   ],
   "source": [
    "for item in seq:\n",
    "    print(item)"
   ]
  },
  {
   "cell_type": "code",
   "execution_count": 16,
   "metadata": {},
   "outputs": [
    {
     "name": "stdout",
     "output_type": "stream",
     "text": [
      "hello\n",
      "hello\n",
      "hello\n",
      "hello\n",
      "hello\n"
     ]
    }
   ],
   "source": [
    "for num in seq:\n",
    "    print('hello') "
   ]
  },
  {
   "cell_type": "code",
   "execution_count": 30,
   "metadata": {},
   "outputs": [],
   "source": [
    "i = 1"
   ]
  },
  {
   "cell_type": "markdown",
   "metadata": {},
   "source": [
    "### WHILE\n",
    "\n",
    "`` i = 1``\n",
    "\n",
    "``while i < 5:\n",
    "    print('i e: {}'.format(i))\n",
    "    i = i+1``\n",
    "    \n",
    "Aqui, o que o codigo faz é, começa setando a variavel para 1, depois faz o teste, i é menor que 5? então imprime na tela seguindo o forma ``i e: variavel`` e depois soma um valor no i usando ``i = i+1``, até que chegue na igualdade, onde a condição do while é falsa e o loop pode parar"
   ]
  },
  {
   "cell_type": "code",
   "execution_count": 31,
   "metadata": {},
   "outputs": [
    {
     "name": "stdout",
     "output_type": "stream",
     "text": [
      "i e: 1\n",
      "i e: 2\n",
      "i e: 3\n",
      "i e: 4\n"
     ]
    }
   ],
   "source": [
    "while i < 5:\n",
    "    print('i e: {}'.format(i))\n",
    "    i = i+1"
   ]
  },
  {
   "cell_type": "markdown",
   "metadata": {},
   "source": [
    "\n",
    "### RANGE\n",
    "\n",
    "`` range(0,5)``\n",
    "\n",
    "O range é uma função que gera uma lista populada pela sequencia de numeros que foi declara, nessa situação de 0 até a 5, facilita pq não precisamos declarar uma função só pra popular com uma lista sequencial\n",
    "\n",
    "`` for x in range(0,6):\n",
    "    print(x)``\n",
    " \n",
    " Essa função aqui, vai imprimir o caractere x 6 vezes, pq o range começa no 0 e vai até o 5\n",
    " Podemos usar ele com pipe em outras funções, \n",
    " Para popular uma lista por exemplo:\n",
    " ``list(range(0,6))``\n",
    " \n",
    " Por padrão, o numero inicial é o zero, então podemos declarara apenas o numero final, caso a lista comece no zero\n",
    " \n",
    " ``list(range(10))``"
   ]
  },
  {
   "cell_type": "code",
   "execution_count": 24,
   "metadata": {},
   "outputs": [
    {
     "data": {
      "text/plain": [
       "range(0, 6)"
      ]
     },
     "execution_count": 24,
     "metadata": {},
     "output_type": "execute_result"
    }
   ],
   "source": [
    "range(0,6)"
   ]
  },
  {
   "cell_type": "code",
   "execution_count": 25,
   "metadata": {},
   "outputs": [
    {
     "name": "stdout",
     "output_type": "stream",
     "text": [
      "0\n",
      "1\n",
      "2\n",
      "3\n",
      "4\n",
      "5\n"
     ]
    }
   ],
   "source": [
    "for x in range(0,6):\n",
    "    print(x)"
   ]
  },
  {
   "cell_type": "code",
   "execution_count": 26,
   "metadata": {},
   "outputs": [
    {
     "data": {
      "text/plain": [
       "[0, 1, 2, 3, 4, 5]"
      ]
     },
     "execution_count": 26,
     "metadata": {},
     "output_type": "execute_result"
    }
   ],
   "source": [
    "list(range(0,6))"
   ]
  },
  {
   "cell_type": "code",
   "execution_count": 42,
   "metadata": {},
   "outputs": [
    {
     "data": {
      "text/plain": [
       "[0, 1, 2, 3, 4, 5, 6, 7, 8, 9]"
      ]
     },
     "execution_count": 42,
     "metadata": {},
     "output_type": "execute_result"
    }
   ],
   "source": [
    "list(range(10))"
   ]
  },
  {
   "cell_type": "markdown",
   "metadata": {},
   "source": [
    "### LIST COMPREHENSION\n",
    "\n",
    "Função que, ao inves de fazer duas listas separadas, ela popula uma lista baseada em outra\n",
    "\n",
    "``x = [1,2,3,4] ``\n",
    "\n",
    "\n",
    "``[num ** 2 for num in x]``\n",
    "\n",
    "A função funciona da mesma forma que se tu fizer o seguinte\n",
    "\n",
    "`` out = [] \n",
    "for num in x:\n",
    "    out.append(num**2)``\n",
    "\n",
    "O resultado é o mesmo nas duas funções.\n",
    "\n"
   ]
  },
  {
   "cell_type": "code",
   "execution_count": 36,
   "metadata": {},
   "outputs": [],
   "source": [
    "x = [1,2,3,4]"
   ]
  },
  {
   "cell_type": "code",
   "execution_count": 37,
   "metadata": {},
   "outputs": [],
   "source": [
    "out = []"
   ]
  },
  {
   "cell_type": "code",
   "execution_count": 34,
   "metadata": {},
   "outputs": [],
   "source": [
    "for num in x:\n",
    "    out.append(num ** 2)"
   ]
  },
  {
   "cell_type": "code",
   "execution_count": 40,
   "metadata": {},
   "outputs": [
    {
     "name": "stdout",
     "output_type": "stream",
     "text": [
      "[1, 4, 9, 16]\n"
     ]
    }
   ],
   "source": [
    "print(out)"
   ]
  },
  {
   "cell_type": "code",
   "execution_count": 39,
   "metadata": {},
   "outputs": [],
   "source": [
    "out = [num ** 2 for num in x]"
   ]
  },
  {
   "cell_type": "code",
   "execution_count": 43,
   "metadata": {},
   "outputs": [
    {
     "name": "stdout",
     "output_type": "stream",
     "text": [
      "[1, 4, 9, 16]\n"
     ]
    }
   ],
   "source": [
    "print(out)"
   ]
  },
  {
   "cell_type": "markdown",
   "metadata": {},
   "source": [
    "### Funções\n",
    "\n",
    "Blocos de codigo que fazem uma ações especifica, que vai ser usada mais de uma vez e pode ser chamada.\n",
    "Começa sendo declarada atraves de ``def``\n",
    "Por exemplo, uma função para printar um parametro que ela recebe\n",
    "\n",
    "``def my_func(param1):\n",
    "    print(param1)``\n",
    "    \n",
    "Quando quiseremos realizar a operação que a função executa, só precisamos chamar ela e passar os parametros que ela recebe que ela vai retornar o que foi esperado, por exemplo:\n",
    "\n",
    "``my_func('teste') `` \n",
    "\n",
    "Retorna apenas ``teste `` pq é o comando que a função executa\n",
    "\n",
    "Funciona que nem no java, podemos concatenar as paradas, por exemplo:\n",
    "\n",
    "\n",
    "``def my_func1(nome):\n",
    "    print('Oi '+nome)``\n",
    "    \n",
    "Ai quando chamarmos a função, ela vai imprimir oi Lucas, caso seja isso que eu declare na função.\n",
    "\n",
    "\n",
    "Outros exemplos:\n",
    "\n",
    "`` def square(num):\n",
    "    return num ** 2 ``\n",
    "\n",
    "    \n",
    "ai podemos armazenar o conteudo do retorno em alguma variavel\n",
    "\n",
    "`` retorno = square(4) `` \n",
    "\n",
    "Depois podemos chamar o ``retorno`` para ver o que a função retornou.\n",
    "Sempre importante documentar o que a função faz.\n",
    "Para documentar, podemos usar o `` # `` quando for uma linha só, ou ``\"\"\" \"\"\"\"`` quando for um bloco de texto\n",
    "No jupyter, podemos colocar o cursor no final da função apertar ``shift + tab`` para ver o que ela faz pela documentação, vai me ser mt util quando começar a usar as bibliotecas lá"
   ]
  },
  {
   "cell_type": "code",
   "execution_count": 44,
   "metadata": {},
   "outputs": [],
   "source": [
    "def my_func(param1):\n",
    "    print(param1)"
   ]
  },
  {
   "cell_type": "code",
   "execution_count": 46,
   "metadata": {},
   "outputs": [
    {
     "name": "stdout",
     "output_type": "stream",
     "text": [
      "teste\n"
     ]
    }
   ],
   "source": [
    "my_func('teste')"
   ]
  },
  {
   "cell_type": "code",
   "execution_count": 47,
   "metadata": {},
   "outputs": [],
   "source": [
    "def my_func1(nome):\n",
    "    print('Oi '+nome)"
   ]
  },
  {
   "cell_type": "code",
   "execution_count": 49,
   "metadata": {},
   "outputs": [
    {
     "name": "stdout",
     "output_type": "stream",
     "text": [
      "Oi lucas\n"
     ]
    }
   ],
   "source": [
    "my_func1('lucas')"
   ]
  },
  {
   "cell_type": "code",
   "execution_count": 54,
   "metadata": {},
   "outputs": [],
   "source": [
    "def square(num):\n",
    "    #Imprime o quadrado do numero declarado\n",
    "    return num**2 "
   ]
  },
  {
   "cell_type": "code",
   "execution_count": 53,
   "metadata": {},
   "outputs": [],
   "source": [
    "retorno = square(4)"
   ]
  },
  {
   "cell_type": "code",
   "execution_count": 52,
   "metadata": {},
   "outputs": [
    {
     "data": {
      "text/plain": [
       "16"
      ]
     },
     "execution_count": 52,
     "metadata": {},
     "output_type": "execute_result"
    }
   ],
   "source": [
    "retorno"
   ]
  },
  {
   "cell_type": "code",
   "execution_count": 4,
   "metadata": {},
   "outputs": [],
   "source": [
    "def square(num):\n",
    "    \"\"\"\n",
    "    Imprime o quadrado do numero declarado\n",
    "    \"\"\"\n",
    "    return num**2 "
   ]
  },
  {
   "cell_type": "markdown",
   "metadata": {},
   "source": [
    "# MAP()\n",
    "\n",
    "Partindo de\n",
    "\n",
    "`` seq = [1,2,3,4,5] ``\n",
    "\n",
    "Vamo utilizar a função map().\n",
    "\n",
    "Função map(), pela definição do python \n",
    "\n",
    "`` Make an iterator that computes the function using arguments from\n",
    "each of the iterables.  Stops when the shortest iterable is exhausted. `` \n",
    " \n",
    " Ou seja, vai correr a lista e executar determinado parametro, vai correr até o ultimo elemento. Executando determinada função.\n",
    " Por exemplo, a função em cima, ``square`` que retorna o quadrado do numero.\n",
    " \n",
    "``map(square,seq)``\n",
    "\n",
    "Retorna\n",
    "\n",
    "``<map at 0x7fba08546650>``\n",
    "\n",
    "Ou seja, alocou nesse espaço de memoria o resultado do map.\n",
    "Se a gente quiser armazenar em uma lista, podemos passar a função dentro de um ``list()``\n",
    "\n",
    "\n",
    "Então teremos \n",
    "\n",
    "`` list(map(square,seq))``\n",
    "\n",
    "Que resulta no seguinte\n",
    "\n",
    "``\n",
    "[1,4,9,16,25]``\n",
    "\n",
    "Exatamente o quadrado de cada objeto da lista inicial.\n",
    "\n",
    "Essa função me economiza um for loop.\n"
   ]
  },
  {
   "cell_type": "code",
   "execution_count": 5,
   "metadata": {},
   "outputs": [],
   "source": [
    "seq = [ 1,2,3,4,5]"
   ]
  },
  {
   "cell_type": "code",
   "execution_count": 6,
   "metadata": {},
   "outputs": [
    {
     "data": {
      "text/plain": [
       "<map at 0x7fba08546650>"
      ]
     },
     "execution_count": 6,
     "metadata": {},
     "output_type": "execute_result"
    }
   ],
   "source": [
    "map(square,seq)"
   ]
  },
  {
   "cell_type": "code",
   "execution_count": 7,
   "metadata": {},
   "outputs": [
    {
     "data": {
      "text/plain": [
       "[1, 4, 9, 16, 25]"
      ]
     },
     "execution_count": 7,
     "metadata": {},
     "output_type": "execute_result"
    }
   ],
   "source": [
    "list(map(square,seq))"
   ]
  },
  {
   "cell_type": "markdown",
   "metadata": {},
   "source": [
    "# Lambda Expression\n",
    "\n",
    "Basicamente uma função sem nome\n",
    "\n",
    "`` lambda var:var**2 ``\n",
    "\n",
    "Surte o mesmo efeito que\n",
    "\n",
    "``def square(var):\n",
    "    return var**2 ``\n",
    "    \n",
    "Ou seja, caso a função seja algo de uso unico, podemos utilizar o lambda para escrever direto, sem precisar definir uma função inteira. \n",
    "\n",
    "``lambda Objeto:Retorno``\n",
    "\n",
    "---\n",
    "## Map e Lambda\n",
    "\n",
    "Aqui que fica interessante,\n",
    "\n",
    "no map, por ser algo que não vai ser muito recorrente,\n",
    "Podemos utilizar o lambda para utilizar no map\n",
    "por exemplo:\n",
    "\n",
    "\n",
    "`` list(map(lambda var:var**2, seq))``\n",
    "\n",
    "\n",
    "Que vai surtir o mesmo efeito que a função separada, declarada e sendo chamada no map"
   ]
  },
  {
   "cell_type": "code",
   "execution_count": 8,
   "metadata": {},
   "outputs": [
    {
     "data": {
      "text/plain": [
       "[1, 4, 9, 16, 25]"
      ]
     },
     "execution_count": 8,
     "metadata": {},
     "output_type": "execute_result"
    }
   ],
   "source": [
    "list(map(lambda var:var**2, seq))"
   ]
  },
  {
   "cell_type": "markdown",
   "metadata": {},
   "source": [
    "# Filter\n",
    "\n",
    "Funciona similar com o map, mas ao inves de aplicar algo em uma array de numeros, ele filtra e retorna booleans\n",
    "\n",
    "\n",
    "``filter(lambda num:num%2 == 0, seq) ``\n",
    "\n",
    "Aqui, utilizamos o ``lambda`` para verificar os numeros que são pares(% retorna o resto da divisão, sendo a divisão por 2 == 0, o numero é par).\n",
    "\n",
    "A função filter sozinha retorna apenas o local de memoria que foi a lista.\n",
    "\n",
    "``list(filter(lambda num:num%2 == 0, seq))``\n",
    "\n",
    "Retorna lista, contendo apenas os numeros pares do array inicial.\n",
    "\n"
   ]
  },
  {
   "cell_type": "code",
   "execution_count": 10,
   "metadata": {},
   "outputs": [
    {
     "data": {
      "text/plain": [
       "<filter at 0x7fba08546e50>"
      ]
     },
     "execution_count": 10,
     "metadata": {},
     "output_type": "execute_result"
    }
   ],
   "source": [
    "filter(lambda num:num%2 == 0, seq)"
   ]
  },
  {
   "cell_type": "code",
   "execution_count": 11,
   "metadata": {},
   "outputs": [
    {
     "data": {
      "text/plain": [
       "[2, 4]"
      ]
     },
     "execution_count": 11,
     "metadata": {},
     "output_type": "execute_result"
    }
   ],
   "source": [
    "list(filter(lambda num:num%2 == 0, seq))"
   ]
  },
  {
   "cell_type": "markdown",
   "metadata": {},
   "source": [
    "# Metodos de String\n",
    "\n",
    "Começamos definindo uma string\n",
    "\n",
    "``s = 'oi, meu nome é lucas'``\n",
    "\n",
    "No jupyter, podemos chamar a string, colocar um ``.`` depois dela e apertar tab que ele mostra as possibilidades\n",
    "\n",
    "``s.lower()``\n",
    "\n",
    "Retorna todos os caracteres da string em minusculo.\n",
    "\n",
    "Aqui é importante salientar que a função precisa ter os parenteses no final, se não o retorno vai ser só sobre a função, não a execução dela\n",
    "\n",
    "``s.upper()``\n",
    "Retorna todos o caracteres da string em maisculo\n",
    "\n",
    "``s.split()``\n",
    "\n",
    "Aqui é interessante, ele pega cada elemento da string e cria um array, separando pelos espaços em branco\n",
    "o resultado é \n",
    "``['oi', 'meu', 'nome', 'é', 'Lucas']``\n",
    "\n",
    "Ele pega funções de array igual\n",
    "\n",
    "O split, aceita parametros tambem, por exemplo,\n",
    "``s.split('e')``\n",
    "\n",
    "Ele vai popular o array, separando os elementos cada vez que ele ver um 'e'"
   ]
  },
  {
   "cell_type": "code",
   "execution_count": 15,
   "metadata": {},
   "outputs": [],
   "source": [
    "s = 'oi meu nome é Lucas'"
   ]
  },
  {
   "cell_type": "code",
   "execution_count": 16,
   "metadata": {},
   "outputs": [
    {
     "data": {
      "text/plain": [
       "str"
      ]
     },
     "execution_count": 16,
     "metadata": {},
     "output_type": "execute_result"
    }
   ],
   "source": [
    "type(s)"
   ]
  },
  {
   "cell_type": "code",
   "execution_count": 17,
   "metadata": {},
   "outputs": [
    {
     "data": {
      "text/plain": [
       "'oi meu nome é lucas'"
      ]
     },
     "execution_count": 17,
     "metadata": {},
     "output_type": "execute_result"
    }
   ],
   "source": [
    "s.lower()\n"
   ]
  },
  {
   "cell_type": "code",
   "execution_count": 18,
   "metadata": {},
   "outputs": [
    {
     "data": {
      "text/plain": [
       "'OI MEU NOME É LUCAS'"
      ]
     },
     "execution_count": 18,
     "metadata": {},
     "output_type": "execute_result"
    }
   ],
   "source": [
    "s.upper()"
   ]
  },
  {
   "cell_type": "code",
   "execution_count": 19,
   "metadata": {},
   "outputs": [
    {
     "data": {
      "text/plain": [
       "['oi', 'meu', 'nome', 'é', 'Lucas']"
      ]
     },
     "execution_count": 19,
     "metadata": {},
     "output_type": "execute_result"
    }
   ],
   "source": [
    "s.split()"
   ]
  },
  {
   "cell_type": "code",
   "execution_count": 20,
   "metadata": {},
   "outputs": [
    {
     "data": {
      "text/plain": [
       "'nome'"
      ]
     },
     "execution_count": 20,
     "metadata": {},
     "output_type": "execute_result"
    }
   ],
   "source": [
    "s.split()[2]"
   ]
  },
  {
   "cell_type": "code",
   "execution_count": 21,
   "metadata": {},
   "outputs": [
    {
     "data": {
      "text/plain": [
       "['oi m', 'u nom', ' é Lucas']"
      ]
     },
     "execution_count": 21,
     "metadata": {},
     "output_type": "execute_result"
    }
   ],
   "source": [
    "s.split('e')"
   ]
  },
  {
   "cell_type": "markdown",
   "metadata": {},
   "source": [
    "---\n",
    "## Metodos para dicionarios\n",
    "\n",
    "``d = {'k1':1, 'k2':2} ``\n",
    "\n",
    "No mesmo sentido que as strings, quando colocamos um ``.`` no final, e abertamos tab, ele retorna os metodos para os dicionarios.\n",
    "\n",
    "``d.keys()``\n",
    "\n",
    "Retorna as keys, obviamente, do dicionario\n",
    "\n",
    "``d.items()``\n",
    "\n",
    "Retorna os itens do dicionario, chaves e seus conteudos.\n",
    "\n",
    "``d.values()``\n",
    "\n",
    "Retorna os valores. Os dicionarios não guardam uma ordem particular."
   ]
  },
  {
   "cell_type": "code",
   "execution_count": 22,
   "metadata": {},
   "outputs": [],
   "source": [
    "d = {'k1':1, 'k2':2}"
   ]
  },
  {
   "cell_type": "code",
   "execution_count": 23,
   "metadata": {},
   "outputs": [
    {
     "data": {
      "text/plain": [
       "{'k1': 1, 'k2': 2}"
      ]
     },
     "execution_count": 23,
     "metadata": {},
     "output_type": "execute_result"
    }
   ],
   "source": [
    "d"
   ]
  },
  {
   "cell_type": "code",
   "execution_count": 24,
   "metadata": {},
   "outputs": [
    {
     "data": {
      "text/plain": [
       "dict_keys(['k1', 'k2'])"
      ]
     },
     "execution_count": 24,
     "metadata": {},
     "output_type": "execute_result"
    }
   ],
   "source": [
    "d.keys()"
   ]
  },
  {
   "cell_type": "code",
   "execution_count": 25,
   "metadata": {},
   "outputs": [
    {
     "data": {
      "text/plain": [
       "dict_items([('k1', 1), ('k2', 2)])"
      ]
     },
     "execution_count": 25,
     "metadata": {},
     "output_type": "execute_result"
    }
   ],
   "source": [
    "d.items()"
   ]
  },
  {
   "cell_type": "code",
   "execution_count": 26,
   "metadata": {},
   "outputs": [
    {
     "data": {
      "text/plain": [
       "dict_values([1, 2])"
      ]
     },
     "execution_count": 26,
     "metadata": {},
     "output_type": "execute_result"
    }
   ],
   "source": [
    "d.values()"
   ]
  },
  {
   "cell_type": "markdown",
   "metadata": {},
   "source": [
    "---\n",
    "## Metodos para Lists\n",
    "\n",
    "\n",
    "`` lst = [1,2,3] ``\n",
    "\n",
    "Aqui, da mesma forma, o ``.`` e tab mostra os metodos possiveis para listas\n",
    "\n",
    "``lst.pop()``\n",
    "\n",
    "Remove e retorna o ultimo item da lista, a mudança é permanente, podemos por exemplo colocar em uma variavel o ultimo elemento sozinho.\n",
    "por exemplo\n",
    "\n",
    "``item = lst.pop()``\n",
    "\n",
    "E depois chamarmos o ``item`` apenas, ele vai retornar o valor retirado da lista\n",
    "\n",
    "O ``pop`` recebe algum elemente tambem, se quiseremos remover o primeiro elemento da lista podemos utilizar\n",
    "\n",
    "``first = lst.pop(0)`` \n",
    "\n",
    "e iremos remover o elemento que esta na posição 0(o primeiro)\n",
    "\n",
    "``lst.append('item')`` \n",
    "\n",
    "Que adiciona um item na ultima posição da lista\n",
    "\n",
    "\n",
    "\n",
    "``5 in [1,2,3,4,5] ``\n",
    "\n",
    "O metodo in, verificar se o elemento esta contido na lista e retorna um boolean\n",
    "\n",
    "No exemplo de cima, se executarmos ele, vai retornar ``True`` , mas se executarmos por exemplo (executei primeiro quando o 5 estava entre aspas e retornou falso, hehe)\n",
    "\n",
    "\n",
    "`` 'x' in [1,2,4] ``\n",
    "\n",
    "O retorno é falso\n"
   ]
  },
  {
   "cell_type": "code",
   "execution_count": 33,
   "metadata": {},
   "outputs": [],
   "source": [
    "lst = [1,2,3,4,5,6]"
   ]
  },
  {
   "cell_type": "code",
   "execution_count": 28,
   "metadata": {},
   "outputs": [
    {
     "data": {
      "text/plain": [
       "3"
      ]
     },
     "execution_count": 28,
     "metadata": {},
     "output_type": "execute_result"
    }
   ],
   "source": [
    "lst.pop()"
   ]
  },
  {
   "cell_type": "code",
   "execution_count": 29,
   "metadata": {},
   "outputs": [
    {
     "data": {
      "text/plain": [
       "[1, 2]"
      ]
     },
     "execution_count": 29,
     "metadata": {},
     "output_type": "execute_result"
    }
   ],
   "source": [
    "lst"
   ]
  },
  {
   "cell_type": "code",
   "execution_count": 34,
   "metadata": {},
   "outputs": [],
   "source": [
    "item = lst.pop()"
   ]
  },
  {
   "cell_type": "code",
   "execution_count": 35,
   "metadata": {},
   "outputs": [
    {
     "data": {
      "text/plain": [
       "6"
      ]
     },
     "execution_count": 35,
     "metadata": {},
     "output_type": "execute_result"
    }
   ],
   "source": [
    "item"
   ]
  },
  {
   "cell_type": "code",
   "execution_count": 36,
   "metadata": {},
   "outputs": [],
   "source": [
    "first = lst.pop(0)"
   ]
  },
  {
   "cell_type": "code",
   "execution_count": 37,
   "metadata": {},
   "outputs": [
    {
     "data": {
      "text/plain": [
       "[2, 3, 4, 5]"
      ]
     },
     "execution_count": 37,
     "metadata": {},
     "output_type": "execute_result"
    }
   ],
   "source": [
    "lst"
   ]
  },
  {
   "cell_type": "code",
   "execution_count": 38,
   "metadata": {},
   "outputs": [
    {
     "data": {
      "text/plain": [
       "1"
      ]
     },
     "execution_count": 38,
     "metadata": {},
     "output_type": "execute_result"
    }
   ],
   "source": [
    "first"
   ]
  },
  {
   "cell_type": "code",
   "execution_count": 39,
   "metadata": {},
   "outputs": [],
   "source": [
    "lst.append(9)"
   ]
  },
  {
   "cell_type": "code",
   "execution_count": 40,
   "metadata": {},
   "outputs": [
    {
     "data": {
      "text/plain": [
       "[2, 3, 4, 5, 9]"
      ]
     },
     "execution_count": 40,
     "metadata": {},
     "output_type": "execute_result"
    }
   ],
   "source": [
    "lst"
   ]
  },
  {
   "cell_type": "code",
   "execution_count": 41,
   "metadata": {},
   "outputs": [
    {
     "data": {
      "text/plain": [
       "False"
      ]
     },
     "execution_count": 41,
     "metadata": {},
     "output_type": "execute_result"
    }
   ],
   "source": [
    "'5' in [1,2,3,4,5]"
   ]
  },
  {
   "cell_type": "code",
   "execution_count": 42,
   "metadata": {},
   "outputs": [
    {
     "data": {
      "text/plain": [
       "True"
      ]
     },
     "execution_count": 42,
     "metadata": {},
     "output_type": "execute_result"
    }
   ],
   "source": [
    "5 in [1,2,3,4,5]"
   ]
  },
  {
   "cell_type": "markdown",
   "metadata": {},
   "source": [
    "# Tupla unpacking\n",
    "\n",
    "Partindo de uma lista que os elementos são tuplas\n",
    "\n",
    "``x = [(1,2),(3,4),(5,6)]``\n",
    "\n",
    "Dessa forma, conseguimos chamar os elementos da tupla dentro da lista \n",
    "\n",
    "``x[0][0] ``   Aqui estamos chamando o primeiro elemento do primeiro elemento, que no caso é o elemento ``1``\n",
    "\n",
    "Esse tipo de array é bem comum no python, podemos fazer então \n",
    "\n",
    "`` for item in x:\n",
    "    print(item) \n",
    "``\n",
    "\n",
    "Dessa forma, podemos reduzir os resultados\n",
    "\n",
    "`` for (a,b) in x:\n",
    "    print(a,b)``\n",
    "    \n",
    "  que resulta na mesma coisa,\n",
    "  Ou,\n",
    "  \n",
    "  \n",
    "`` for a,b in x:\n",
    "    print(b)``\n",
    "    \n",
    "    \n",
    "Que retorna apenas os 2 item das duplas, podemos dar um passo mais adiante ainda\n",
    "\n",
    "\n",
    "`` for a,b in x:\n",
    "    print(a)\n",
    "    print(b)``\n",
    "    \n",
    "    \n",
    "Que imprime a sequencia inteira das duplas em ordem"
   ]
  },
  {
   "cell_type": "code",
   "execution_count": 52,
   "metadata": {},
   "outputs": [],
   "source": [
    "x = [(1,2),(3,4),(5,6)]"
   ]
  },
  {
   "cell_type": "code",
   "execution_count": 44,
   "metadata": {},
   "outputs": [
    {
     "data": {
      "text/plain": [
       "2"
      ]
     },
     "execution_count": 44,
     "metadata": {},
     "output_type": "execute_result"
    }
   ],
   "source": [
    "x[0][1]"
   ]
  },
  {
   "cell_type": "code",
   "execution_count": 45,
   "metadata": {},
   "outputs": [
    {
     "name": "stdout",
     "output_type": "stream",
     "text": [
      "(1, 2)\n",
      "(3, 4)\n",
      "(5, 6)\n"
     ]
    }
   ],
   "source": [
    "for item in x:\n",
    "    print(item) "
   ]
  },
  {
   "cell_type": "code",
   "execution_count": 48,
   "metadata": {},
   "outputs": [
    {
     "name": "stdout",
     "output_type": "stream",
     "text": [
      "(1, 2)\n",
      "(3, 4)\n",
      "(5, 6)\n"
     ]
    }
   ],
   "source": [
    "for item in x:\n",
    "    print(item) "
   ]
  },
  {
   "cell_type": "code",
   "execution_count": 50,
   "metadata": {},
   "outputs": [
    {
     "name": "stdout",
     "output_type": "stream",
     "text": [
      "1 2\n",
      "3 4\n",
      "5 6\n"
     ]
    }
   ],
   "source": [
    "for (a,b) in x:\n",
    "    print(a,b)"
   ]
  },
  {
   "cell_type": "code",
   "execution_count": 51,
   "metadata": {},
   "outputs": [
    {
     "name": "stdout",
     "output_type": "stream",
     "text": [
      "2\n",
      "4\n",
      "6\n"
     ]
    }
   ],
   "source": [
    "for a,b in x:\n",
    "    print(b)"
   ]
  },
  {
   "cell_type": "code",
   "execution_count": 53,
   "metadata": {},
   "outputs": [
    {
     "name": "stdout",
     "output_type": "stream",
     "text": [
      "1\n",
      "2\n",
      "3\n",
      "4\n",
      "5\n",
      "6\n"
     ]
    }
   ],
   "source": [
    "for a,b in x:\n",
    "    print(a)\n",
    "    print(b)"
   ]
  },
  {
   "cell_type": "code",
   "execution_count": null,
   "metadata": {},
   "outputs": [],
   "source": []
  }
 ],
 "metadata": {
  "kernelspec": {
   "display_name": "Python 3",
   "language": "python",
   "name": "python3"
  },
  "language_info": {
   "codemirror_mode": {
    "name": "ipython",
    "version": 3
   },
   "file_extension": ".py",
   "mimetype": "text/x-python",
   "name": "python",
   "nbconvert_exporter": "python",
   "pygments_lexer": "ipython3",
   "version": "3.7.4"
  }
 },
 "nbformat": 4,
 "nbformat_minor": 2
}
