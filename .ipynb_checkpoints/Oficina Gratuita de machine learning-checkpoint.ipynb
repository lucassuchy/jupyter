{
 "cells": [
  {
   "cell_type": "markdown",
   "metadata": {},
   "source": [
    "Analise de imagem\n",
    "diagnostico de doença\n",
    "\n",
    "machine learning != machine teaching\n",
    "\n",
    "aprendizagem supervisionada:\n",
    "interferencia do humano pra falar o que é certo o que é errado, o que é bom e é ruim\n",
    "exemplos que dizem o que é bom e é ruim\n",
    "exemplos bons e exemplos ruins\n",
    "\n",
    "---\n",
    "## supervisionado\n",
    "\n",
    "### classificar\n",
    "aprender a diferença entre as classes\n",
    "\n",
    "### regressão\n",
    "ordenar os dados, grandeza associada\n",
    "\n",
    "imagem som e video são dados não estruturados, a maquina não consegue interpretar isso\n",
    "\n",
    "Partindo de dados, ordenando e classificando, temos um resultado baseado nos dados\n",
    "aqui os dados são supervisionados, ou seja, estamos falando pra maquina o que é bom e o que é ruim\n",
    "\n",
    "\n",
    "----\n",
    "\n",
    "\n"
   ]
  },
  {
   "cell_type": "markdown",
   "metadata": {},
   "source": [
    "## Carregando bibliotecas"
   ]
  },
  {
   "cell_type": "code",
   "execution_count": 4,
   "metadata": {},
   "outputs": [],
   "source": [
    "import sklearn"
   ]
  },
  {
   "cell_type": "code",
   "execution_count": 9,
   "metadata": {},
   "outputs": [],
   "source": [
    "from sklearn.datasets import load_breast_cancer"
   ]
  },
  {
   "cell_type": "code",
   "execution_count": 12,
   "metadata": {},
   "outputs": [],
   "source": [
    "breast = load_breast_cancer()"
   ]
  },
  {
   "cell_type": "code",
   "execution_count": null,
   "metadata": {},
   "outputs": [],
   "source": []
  },
  {
   "cell_type": "code",
   "execution_count": null,
   "metadata": {},
   "outputs": [],
   "source": []
  }
 ],
 "metadata": {
  "kernelspec": {
   "display_name": "Python 3",
   "language": "python",
   "name": "python3"
  },
  "language_info": {
   "codemirror_mode": {
    "name": "ipython",
    "version": 3
   },
   "file_extension": ".py",
   "mimetype": "text/x-python",
   "name": "python",
   "nbconvert_exporter": "python",
   "pygments_lexer": "ipython3",
   "version": "3.7.4"
  }
 },
 "nbformat": 4,
 "nbformat_minor": 2
}
