{
 "cells": [
  {
   "cell_type": "markdown",
   "metadata": {},
   "source": [
    "Se eu quiser escrever nesse notebooks eu preciso alterar ali na barra de cima, selecionar markdown no lugar de code.\n",
    "\n",
    "Pra executar o codigo eu posso usar Shift+enter ou alt+enter\n",
    "* shift + enter executa e pula pro proximo\n",
    "* alt   + enter executa e adiciona um na sequencia \n",
    "\n",
    "\n",
    " Quando tiver fazendos os exercicios é bom usar o alt+enter pra não perder o resultado esperado\n",
    " \n",
    " Esses campos de textos servem como markdown tb\n",
    " \n",
    " Pra deletar um campo é só selecionar a celula que eu quero deletar e aperta dd\n"
   ]
  },
  {
   "cell_type": "code",
   "execution_count": 13,
   "metadata": {},
   "outputs": [
    {
     "data": {
      "text/plain": [
       "6"
      ]
     },
     "execution_count": 13,
     "metadata": {},
     "output_type": "execute_result"
    }
   ],
   "source": [
    "3+3"
   ]
  },
  {
   "cell_type": "code",
   "execution_count": 2,
   "metadata": {},
   "outputs": [
    {
     "name": "stdout",
     "output_type": "stream",
     "text": [
      "2\n"
     ]
    }
   ],
   "source": [
    "print(1+1)"
   ]
  },
  {
   "cell_type": "code",
   "execution_count": 14,
   "metadata": {},
   "outputs": [
    {
     "data": {
      "text/plain": [
       "'Shift+enter'"
      ]
     },
     "execution_count": 14,
     "metadata": {},
     "output_type": "execute_result"
    }
   ],
   "source": [
    "'Shift+enter'"
   ]
  },
  {
   "cell_type": "markdown",
   "metadata": {},
   "source": [
    "---\n",
    "### Criando Enviroments\n",
    "https://conda.io/projects/conda/en/latest/user-guide/tasks/manage-environments.html#creating-an-environment-with-commands\n",
    "\n",
    "Na anaconda, a gente consegue trabalhar com \"maquinas virtuais\", alterando as configurações do que tem nessas maquina.\n",
    "Pra criar uma a gente usa o comando \n",
    "\n",
    "``conda create --name NomedaMaquina Bibliteca``\n",
    "\n",
    "Ai no exemplo do video o cara cria uma usando o numpy ou seja:\n",
    "\n",
    "``conda create --name fluffy numpy``\n",
    "\n",
    "Isso cria a maquina, muda o inicio que fica no bash, e permite trabalhar em cima sem problemas,\n",
    "Se eu tento importar por exemplo o pandas nessa maquina ele não aceita.\n",
    "Funciona como o docker mais ou menos.\n",
    "Podemos usar \n",
    "\n",
    "``conda create -n Nome Biblioteca``\n",
    "\n",
    "Funciona da mesma forma.\n",
    "Depois que criou a maquina, pra ativar tem que usar o comando\n",
    "\n",
    "``conda activate NomedaMaquina``\n",
    "\n",
    "Ai ele começa a trabalhar nesse maquina.\n",
    "Pra desativar é só usar\n",
    "\n",
    "``conda desactivate nomedamaquina``\n",
    "\n",
    "E ele retorna pra maquina base\n",
    "\n",
    "Isso é util para criar environments com uma versão diferente do pyhton, seguindo a mesma logica de colocar só uma biblioteca de funçoes junto ou instalando delas separados\n",
    "\n",
    "``conda create -n myphyton3version python=3.5 anaconda ``\n",
    "\n",
    "Aqui ele vai instalar todos os pacotes do anaconda, na versão 3.5 do pyhton, depois que ativar da pra testar digitando ``python`` que o TTY avisa qual a versão da rodando, não precisa ser instalado todo o anaconda, pode ser só o numpy por exemplo\n",
    "\n",
    "Depois que eu criei todos os ambientes que eu quero, eu consigo ver quais estão criados com o comando\n",
    "\n",
    "``conda info --envs``\n",
    "\n",
    "\n",
    "---"
   ]
  },
  {
   "cell_type": "markdown",
   "metadata": {},
   "source": [
    "### Python Crash Course\n",
    "#### Operações Matematicas \n",
    "\n",
    "São dois tipos de numero, int e float\n",
    "\n",
    "- int é inteiro\n",
    "    - 1,2,3,4\n",
    "- float é float\n",
    "    - 1.0,2.5,3.4\n",
    "\n",
    "- Operações matematicas são feitas normalmente\n",
    "    - 1 + 1, 2 * 3, 1 /2 , 2 ** 4 \n",
    "    - Python interpreta na sequencia, ou seja, \n",
    "        - 2 + 3 * 5 + 5\n",
    "        \n",
    "        é diferente de \n",
    "        \n",
    "        \n",
    "        - (2 + 3) * (5 +5)\n",
    "        \n",
    "        Usar parentes para ordenar o momento que as operações ocorrem.\n",
    "\n",
    "\n",
    "    - 4 % 2 retorna o que sobra da divisão,\n",
    "        - Isso é util pra saber se numero é par por exemplo."
   ]
  },
  {
   "cell_type": "code",
   "execution_count": 1,
   "metadata": {},
   "outputs": [
    {
     "data": {
      "text/plain": [
       "0"
      ]
     },
     "execution_count": 1,
     "metadata": {},
     "output_type": "execute_result"
    }
   ],
   "source": [
    "4%2"
   ]
  },
  {
   "cell_type": "code",
   "execution_count": 2,
   "metadata": {},
   "outputs": [
    {
     "data": {
      "text/plain": [
       "1"
      ]
     },
     "execution_count": 2,
     "metadata": {},
     "output_type": "execute_result"
    }
   ],
   "source": [
    "5%2"
   ]
  },
  {
   "cell_type": "code",
   "execution_count": 3,
   "metadata": {},
   "outputs": [
    {
     "data": {
      "text/plain": [
       "2"
      ]
     },
     "execution_count": 3,
     "metadata": {},
     "output_type": "execute_result"
    }
   ],
   "source": [
    "2//1\n"
   ]
  },
  {
   "cell_type": "code",
   "execution_count": 4,
   "metadata": {},
   "outputs": [
    {
     "data": {
      "text/plain": [
       "4"
      ]
     },
     "execution_count": 4,
     "metadata": {},
     "output_type": "execute_result"
    }
   ],
   "source": [
    "8//2"
   ]
  },
  {
   "cell_type": "markdown",
   "metadata": {},
   "source": [
    "## Python Crash Course\n",
    "### Variaveis\n",
    "\n",
    "Funcionama só colocando o nome da variavel e um sinal de igual para ela guardar o conteudo que vem depois do igual\n",
    "\n",
    "``var = 2 ``\n",
    "\n",
    "Depois quando eu quiser chamar a variaveis com o conteudo todo é só usar o nome que foi digitado anteriormente.\n",
    "As operações de recursão tambem funcionam,\n",
    "Eu consigo reutilizar a variavel nela mesma para alterar o valor que ela tem dentro.\n",
    "\n",
    "`` x = x+x ``\n",
    "\n",
    "Por exemplo\n",
    "\n",
    "nome de variaveis não podem começar com numeros nem simbolos, começar com letra minuscula, pra usar dos nomes usar um underline"
   ]
  },
  {
   "cell_type": "code",
   "execution_count": 5,
   "metadata": {},
   "outputs": [],
   "source": [
    "var = 2"
   ]
  },
  {
   "cell_type": "code",
   "execution_count": 6,
   "metadata": {},
   "outputs": [
    {
     "data": {
      "text/plain": [
       "2"
      ]
     },
     "execution_count": 6,
     "metadata": {},
     "output_type": "execute_result"
    }
   ],
   "source": [
    "var"
   ]
  },
  {
   "cell_type": "code",
   "execution_count": 7,
   "metadata": {},
   "outputs": [],
   "source": [
    "x = 3\n",
    "y = 5"
   ]
  },
  {
   "cell_type": "code",
   "execution_count": 9,
   "metadata": {},
   "outputs": [
    {
     "data": {
      "text/plain": [
       "15"
      ]
     },
     "execution_count": 9,
     "metadata": {},
     "output_type": "execute_result"
    }
   ],
   "source": [
    "x * y"
   ]
  },
  {
   "cell_type": "code",
   "execution_count": 10,
   "metadata": {},
   "outputs": [],
   "source": [
    "x = x*x"
   ]
  },
  {
   "cell_type": "code",
   "execution_count": 11,
   "metadata": {},
   "outputs": [
    {
     "data": {
      "text/plain": [
       "9"
      ]
     },
     "execution_count": 11,
     "metadata": {},
     "output_type": "execute_result"
    }
   ],
   "source": [
    "x"
   ]
  },
  {
   "cell_type": "code",
   "execution_count": 12,
   "metadata": {},
   "outputs": [],
   "source": [
    "x += 2"
   ]
  },
  {
   "cell_type": "code",
   "execution_count": 13,
   "metadata": {},
   "outputs": [
    {
     "data": {
      "text/plain": [
       "11"
      ]
     },
     "execution_count": 13,
     "metadata": {},
     "output_type": "execute_result"
    }
   ],
   "source": [
    "x"
   ]
  },
  {
   "cell_type": "markdown",
   "metadata": {},
   "source": [
    "## Python Crash Course\n",
    "### Strings\n",
    "\n",
    "Começar com ' ' ou com \" \"\n",
    "Podemos usar aspas simples dentro das aspas duplas\n",
    "\n",
    "chamando só a variavel ele imprime na tela com as aspas que foram usadas para armazenar ela\n",
    "Agora quando usa o comando print ele mostra só conteudo mesmo.\n",
    "\n",
    "### Print\n",
    "O print aceita uso de variaveis dentro dos parenteses, sem concatenar o conteudo.\n",
    "Por exemplo\n",
    "Declaro a variavel\n",
    "\n",
    "``numero = 12\n",
    "nome = 'lucas' ``\n",
    "\n",
    "Depois eu junto tudo usando o format.\n",
    "\n",
    "``\n",
    "'Meu numero é {} e meu nome é {}'.format(numero, nome)``\n",
    "\n",
    "\n",
    "Aqui o comando format ocupa os {} com as variavies na ordem que elas foram chamadas no comando format.\n",
    "O format tb aceita tu popular dentro das {} com outras variaveis e depois declarar dentro do format o que a variavel tem, por exemplo\n",
    "\n",
    "``'Meu numero é {um} e meu nome é {dois}, além de {um}'.format(um=numero, dois = nome)``\n",
    "\n",
    "Isso facilita pra não se perder na hora que tiver populando um campo maior e tambem não precisa ser na ordem que elas aparecem, ou repetir as variaveis.\n",
    "\n",
    "### Index\n",
    "\n",
    "`` s = 'Hello'``\n",
    "\n",
    "Indexar é o ato de pegar o valor que esta sendo ocupado.\n",
    "Por exemplo\n",
    "\n",
    "``s[2]``\n",
    "\n",
    "Retorna l, pq l ta ocupando a posição 2 na variavel s que é populada pela string Hello.\n",
    "Vale lembrar que no python os index começam no zero que é o correto\n",
    "Podemos usar o sinal de negativo para trabalhar de traz pra frente na ordem. Por exemplo ``s[-1] `` retorna 'o' que é a ultima letra da String.\n",
    "Pra pegar pedaços da string é utilizado ``:`` por exemplo\n",
    "\n",
    "``s = 'abcdefghojk'``\n",
    "\n",
    "Depois quando utilizamos \n",
    "\n",
    "``s[0:]`` retorna todo do conteudo da string, partindo da primeira index.\n",
    "\n",
    "``s[:4]`` retorna ``abc`` ou seja, retorna todo o conteudo até o index 4 mas não incluindo o 4\n",
    "\n",
    "``s[1:4] `` retorna ``bcd`` ou seja, começando do 1 retorna tudo até o index 4, mas não incluindo o 4(pq começa no zero)\n",
    "\n",
    "### Lists\n",
    "\n",
    "é uma sequencia de elementos dentro de [] separados por virgulas\n",
    "Pode receber qualquer tipo de datatype\n",
    "``[1,2,3]`` ou ``['a','b','c']``\n",
    "\n",
    "Depois que criada para adicionar conteudo utilizamos o comando append.\n",
    "\n",
    "``lista = ['a','b','c']\n",
    "lista.append('d')``\n",
    "\n",
    "Ai quando chamamos a lista ele vai retornar\n",
    "\n",
    "``lista = ['a','b','c','d']``\n",
    "\n",
    "\n",
    "Cada conteudo da lista tem um index, ou seja ``lista[0]`` vai retornar ``'a'`` pq o a esta salvo no primeiro espaço da lista\n",
    "Podemos usar os ``:``, por exemplo ``lista[1:3]`` retorna ``['b', 'c']`` são incluindo o 3.\n",
    "\n",
    "Para mudar o conteudo de um item da lista, usamos\n",
    "\n",
    "``lista[1] = 'f'``\n",
    "\n",
    "Isso faz com coloque na posição ``1`` o conteudo ``'f'`` \n",
    "\n",
    "Podemos aninhar listas dentro de listas, por exemplo\n",
    "\n",
    "``n = [1,2,[3,4]]``\n",
    "\n",
    "Quando chamamos a lista ele retorna  ``[1,2,[3,4]]``\n",
    "Nessa situação para chamarmos um numero que ta dentro da lista usamos\n",
    "``n[2][1]`` que retorna ``4``\n",
    "\n",
    "Se eu não me engano isso é lista em 3d\n",
    "\n",
    "Isso adiciona camadas na lista\n",
    "por exemplo\n",
    "\n",
    "``n = [1,2,3,[4,5,['objetivo']]]``\n",
    "\n",
    "resulta em \n",
    "``1,2,3,[4,5,['objetivo']]``\n",
    "\n",
    "Mas ai se quero só o objetivo\n",
    "\n",
    "``n[3][2][0]``\n",
    "\n",
    "Ou podemos usar o print \n",
    "\n",
    "``print(n[3][2][0])``\n"
   ]
  },
  {
   "cell_type": "code",
   "execution_count": 14,
   "metadata": {
    "scrolled": true
   },
   "outputs": [
    {
     "data": {
      "text/plain": [
       "'1+1'"
      ]
     },
     "execution_count": 14,
     "metadata": {},
     "output_type": "execute_result"
    }
   ],
   "source": [
    "'1+1'"
   ]
  },
  {
   "cell_type": "code",
   "execution_count": 15,
   "metadata": {
    "scrolled": true
   },
   "outputs": [
    {
     "data": {
      "text/plain": [
       "'1+1'"
      ]
     },
     "execution_count": 15,
     "metadata": {},
     "output_type": "execute_result"
    }
   ],
   "source": [
    "\"1+1\""
   ]
  },
  {
   "cell_type": "code",
   "execution_count": 26,
   "metadata": {},
   "outputs": [
    {
     "data": {
      "text/plain": [
       "\"121'111\""
      ]
     },
     "execution_count": 26,
     "metadata": {},
     "output_type": "execute_result"
    }
   ],
   "source": [
    "\"121'111\""
   ]
  },
  {
   "cell_type": "code",
   "execution_count": null,
   "metadata": {},
   "outputs": [],
   "source": [
    "# Strings"
   ]
  },
  {
   "cell_type": "code",
   "execution_count": 17,
   "metadata": {},
   "outputs": [],
   "source": [
    "x = 'teste'"
   ]
  },
  {
   "cell_type": "code",
   "execution_count": 18,
   "metadata": {},
   "outputs": [
    {
     "data": {
      "text/plain": [
       "'teste'"
      ]
     },
     "execution_count": 18,
     "metadata": {},
     "output_type": "execute_result"
    }
   ],
   "source": [
    "x"
   ]
  },
  {
   "cell_type": "code",
   "execution_count": 19,
   "metadata": {},
   "outputs": [
    {
     "name": "stdout",
     "output_type": "stream",
     "text": [
      "teste\n"
     ]
    }
   ],
   "source": [
    "print(x)"
   ]
  },
  {
   "cell_type": "code",
   "execution_count": 21,
   "metadata": {},
   "outputs": [],
   "source": [
    "numero = 12\n",
    "nome = 'lucas'"
   ]
  },
  {
   "cell_type": "code",
   "execution_count": 22,
   "metadata": {},
   "outputs": [
    {
     "data": {
      "text/plain": [
       "'Meu numero é 12 e meu nome é lucas'"
      ]
     },
     "execution_count": 22,
     "metadata": {},
     "output_type": "execute_result"
    }
   ],
   "source": [
    "'Meu numero é {} e meu nome é {}'.format(numero, nome)"
   ]
  },
  {
   "cell_type": "code",
   "execution_count": 23,
   "metadata": {},
   "outputs": [
    {
     "name": "stdout",
     "output_type": "stream",
     "text": [
      "Meu numero é 12 e meu nome é lucas\n"
     ]
    }
   ],
   "source": [
    "print('Meu numero é {} e meu nome é {}'.format(numero, nome))"
   ]
  },
  {
   "cell_type": "code",
   "execution_count": 24,
   "metadata": {},
   "outputs": [
    {
     "data": {
      "text/plain": [
       "'Meu numero é 12 e meu nome é lucas'"
      ]
     },
     "execution_count": 24,
     "metadata": {},
     "output_type": "execute_result"
    }
   ],
   "source": [
    "'Meu numero é {um} e meu nome é {dois}'.format(um=numero, dois = nome)"
   ]
  },
  {
   "cell_type": "code",
   "execution_count": 25,
   "metadata": {},
   "outputs": [
    {
     "name": "stdout",
     "output_type": "stream",
     "text": [
      "Meu numero é 12 e meu nome é lucas\n"
     ]
    }
   ],
   "source": [
    "print('Meu numero é {um} e meu nome é {dois}'.format(um=numero, dois = nome))"
   ]
  },
  {
   "cell_type": "code",
   "execution_count": 27,
   "metadata": {},
   "outputs": [],
   "source": [
    "# index"
   ]
  },
  {
   "cell_type": "code",
   "execution_count": 28,
   "metadata": {},
   "outputs": [],
   "source": [
    "s = 'hello'"
   ]
  },
  {
   "cell_type": "code",
   "execution_count": 29,
   "metadata": {},
   "outputs": [
    {
     "data": {
      "text/plain": [
       "'l'"
      ]
     },
     "execution_count": 29,
     "metadata": {},
     "output_type": "execute_result"
    }
   ],
   "source": [
    "s[2]"
   ]
  },
  {
   "cell_type": "code",
   "execution_count": 30,
   "metadata": {},
   "outputs": [
    {
     "data": {
      "text/plain": [
       "'o'"
      ]
     },
     "execution_count": 30,
     "metadata": {},
     "output_type": "execute_result"
    }
   ],
   "source": [
    "s[-1]"
   ]
  },
  {
   "cell_type": "code",
   "execution_count": 31,
   "metadata": {},
   "outputs": [],
   "source": [
    "s = 'abcdefghojk'"
   ]
  },
  {
   "cell_type": "code",
   "execution_count": 36,
   "metadata": {},
   "outputs": [
    {
     "data": {
      "text/plain": [
       "'b'"
      ]
     },
     "execution_count": 36,
     "metadata": {},
     "output_type": "execute_result"
    }
   ],
   "source": [
    "s[1]"
   ]
  },
  {
   "cell_type": "code",
   "execution_count": 37,
   "metadata": {},
   "outputs": [
    {
     "data": {
      "text/plain": [
       "'abcdefghojk'"
      ]
     },
     "execution_count": 37,
     "metadata": {},
     "output_type": "execute_result"
    }
   ],
   "source": [
    "s[0:]"
   ]
  },
  {
   "cell_type": "code",
   "execution_count": 35,
   "metadata": {},
   "outputs": [
    {
     "data": {
      "text/plain": [
       "'abcd'"
      ]
     },
     "execution_count": 35,
     "metadata": {},
     "output_type": "execute_result"
    }
   ],
   "source": [
    "s[:4]"
   ]
  },
  {
   "cell_type": "code",
   "execution_count": 38,
   "metadata": {},
   "outputs": [
    {
     "data": {
      "text/plain": [
       "'bcd'"
      ]
     },
     "execution_count": 38,
     "metadata": {},
     "output_type": "execute_result"
    }
   ],
   "source": [
    "s[1:4]"
   ]
  },
  {
   "cell_type": "code",
   "execution_count": 39,
   "metadata": {},
   "outputs": [],
   "source": [
    "# Listas"
   ]
  },
  {
   "cell_type": "code",
   "execution_count": 41,
   "metadata": {},
   "outputs": [],
   "source": [
    "lista = ['a','b','c']"
   ]
  },
  {
   "cell_type": "code",
   "execution_count": 42,
   "metadata": {},
   "outputs": [
    {
     "data": {
      "text/plain": [
       "['a', 'b', 'c']"
      ]
     },
     "execution_count": 42,
     "metadata": {},
     "output_type": "execute_result"
    }
   ],
   "source": [
    "lista"
   ]
  },
  {
   "cell_type": "code",
   "execution_count": 43,
   "metadata": {},
   "outputs": [],
   "source": [
    "lista.append('d')"
   ]
  },
  {
   "cell_type": "code",
   "execution_count": 44,
   "metadata": {},
   "outputs": [
    {
     "data": {
      "text/plain": [
       "['a', 'b', 'c', 'd']"
      ]
     },
     "execution_count": 44,
     "metadata": {},
     "output_type": "execute_result"
    }
   ],
   "source": [
    "lista"
   ]
  },
  {
   "cell_type": "code",
   "execution_count": 45,
   "metadata": {},
   "outputs": [
    {
     "data": {
      "text/plain": [
       "'a'"
      ]
     },
     "execution_count": 45,
     "metadata": {},
     "output_type": "execute_result"
    }
   ],
   "source": [
    "lista[0]"
   ]
  },
  {
   "cell_type": "code",
   "execution_count": 46,
   "metadata": {},
   "outputs": [
    {
     "data": {
      "text/plain": [
       "['b', 'c']"
      ]
     },
     "execution_count": 46,
     "metadata": {},
     "output_type": "execute_result"
    }
   ],
   "source": [
    "lista[1:3]"
   ]
  },
  {
   "cell_type": "code",
   "execution_count": 47,
   "metadata": {},
   "outputs": [],
   "source": [
    "lista[1] = 'f'"
   ]
  },
  {
   "cell_type": "code",
   "execution_count": 48,
   "metadata": {},
   "outputs": [
    {
     "data": {
      "text/plain": [
       "['a', 'f', 'c', 'd']"
      ]
     },
     "execution_count": 48,
     "metadata": {},
     "output_type": "execute_result"
    }
   ],
   "source": [
    "lista"
   ]
  },
  {
   "cell_type": "code",
   "execution_count": 51,
   "metadata": {},
   "outputs": [],
   "source": [
    "n = [1,2,3,[4,5,['objetivo']]]"
   ]
  },
  {
   "cell_type": "code",
   "execution_count": 52,
   "metadata": {},
   "outputs": [
    {
     "data": {
      "text/plain": [
       "'objetivo'"
      ]
     },
     "execution_count": 52,
     "metadata": {},
     "output_type": "execute_result"
    }
   ],
   "source": [
    "n[3][2][0]"
   ]
  },
  {
   "cell_type": "code",
   "execution_count": 54,
   "metadata": {},
   "outputs": [
    {
     "name": "stdout",
     "output_type": "stream",
     "text": [
      "objetivo\n"
     ]
    }
   ],
   "source": [
    "print(n[3][2][0])"
   ]
  }
 ],
 "metadata": {
  "kernelspec": {
   "display_name": "Python 3",
   "language": "python",
   "name": "python3"
  },
  "language_info": {
   "codemirror_mode": {
    "name": "ipython",
    "version": 3
   },
   "file_extension": ".py",
   "mimetype": "text/x-python",
   "name": "python",
   "nbconvert_exporter": "python",
   "pygments_lexer": "ipython3",
   "version": "3.7.4"
  }
 },
 "nbformat": 4,
 "nbformat_minor": 2
}
