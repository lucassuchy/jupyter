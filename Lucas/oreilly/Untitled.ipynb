{
 "cells": [
  {
   "cell_type": "markdown",
   "metadata": {},
   "source": [
    "# ? ??\n",
    "\n",
    "No python, podemos utilizar o simbolo ``?`` para conseguirmos mais informações sobre a função ou sobre um metodo.\n",
    "\n",
    "Por exemplo, utilizando na função ``len`` , retornamos as seguintes informações\n",
    "\n",
    "``Signature: len(obj, /)\n",
    "Docstring: Return the number of items in a container.\n",
    "Type:      builtin_function_or_method ``\n",
    "\n",
    "Que contem mais informações do que se utilizarmos a função ``help()`` \n",
    "\n",
    "Podemos utilizar tambem em metodos, mas para isso, precisamos declarar alguma coisa para o python entender qual metodo que estamos querendo utilizar\n",
    "Por exemplo, começamos declarando a seguinte string\n",
    "\n",
    "\n",
    "``s = 'lucas' ``\n",
    " \n",
    " Partindo disso, podemos aplicar metodos a string, e por consequencia, conseguimos tirar informações dos metodos.\n",
    " \n",
    " \n",
    " ``s.upper()?`` \n",
    " \n",
    " Retorna informações sobre o metodo upper, que é utilizado nas strings\n",
    " \n",
    " \n",
    " ``Signature: s.upper()\n",
    "Docstring: Return a copy of the string converted to uppercase.\n",
    "Type:      builtin_function_or_method ``\n",
    "\n",
    "\n",
    "\n",
    "Podemos utilizar direto nas variaveis, para obter mais informações sobre elas,\n",
    "Funciona tambem para funções criadas, desde que sejam documentadas.\n",
    "\n",
    "\n",
    "---\n",
    "# __\n",
    "\n",
    "No python, metodos privados começam com ``__``\n",
    "\n",
    "Por exemplo, partindo a string ``s`` , se utilizamos colocamos o ``.`` seguido de ``__`` ele mostra os metodos que são ocultos.\n",
    "\n",
    "\n",
    "\n"
   ]
  },
  {
   "cell_type": "code",
   "execution_count": null,
   "metadata": {},
   "outputs": [],
   "source": []
  }
 ],
 "metadata": {
  "kernelspec": {
   "display_name": "Python 3",
   "language": "python",
   "name": "python3"
  },
  "language_info": {
   "codemirror_mode": {
    "name": "ipython",
    "version": 3
   },
   "file_extension": ".py",
   "mimetype": "text/x-python",
   "name": "python",
   "nbconvert_exporter": "python",
   "pygments_lexer": "ipython3",
   "version": "3.7.4"
  }
 },
 "nbformat": 4,
 "nbformat_minor": 2
}
