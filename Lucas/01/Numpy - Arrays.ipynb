{
 "cells": [
  {
   "cell_type": "markdown",
   "metadata": {},
   "source": [
    "# Numpy\n",
    "\n",
    "O numpy é uma biblioteca de algebra lienar para python, \n",
    "\n",
    "\n",
    "Os arrays do numpy são a parte mais importante do numpy\n",
    "\n",
    "Os arrays vem ou e vetores ou em matrizes\n",
    "\n",
    "\n",
    "Vetores são arrays de 1d\n",
    "Matrizes são arrays em 2d(podem ter apenas uma coluna ou apenas uma linha)\n",
    "\n",
    "---\n",
    "\n",
    "## Array\n",
    "\n",
    "Começamos criando uma lista normal no python,\n",
    "\n",
    "`` my_list = [1,2,3] ``\n",
    "\n",
    "Que armazena normalmente uma lista.\n",
    "\n",
    "Agora, se importarmos a biblioteca numpy \n",
    "\n",
    "`` import numpy as np ``\n",
    "\n",
    "Conseguimos trabalhar melhor a lista.\n",
    "\n",
    "Podemos transformar a lista em um array por exemplo\n",
    "\n",
    "``array = np.array(my_list) ``\n",
    "\n",
    "e dessa forma, quando chamarmos a variavel array, ela vai retornar o seguinte \n",
    "\n",
    "`` array([1, 2, 3]) `` \n",
    "\n",
    "Um array, com um unico item, bidemensional.\n",
    "\n",
    "Da mesma forma, conseguimos trabalhar com matrizes\n",
    "Partindo de uma matriz simples, temos:\n",
    "\n",
    "``my_matriz = [[1,2,3],[4,5,6],[7,8,8]]``\n",
    "\n",
    "Dessa forma, quando passamos o conteudo pra função array do numpy, ele retorna um vetor tridimensional.\n",
    "\n",
    "``np.array(my_matriz)``  que vai retornar\n",
    "\n",
    "`` array([[1, 2, 3],\n",
    "       [4, 5, 6],\n",
    "       [7, 8, 8]])``\n",
    "       \n",
    "Qual é a utilidade disso? até agora não entendi\n",
    "\n",
    "---\n",
    "\n",
    "### Arange()\n",
    "\n",
    "\n",
    "O numpy tambem tem uma função similar com a ``range()`` do python\n",
    "\n",
    "A função no numpy porem, trabalha com 3 argumentos.\n",
    "\n",
    "``np.arange(0,10) ``\n",
    "\n",
    "\n",
    "Quando executamos isso, o pytho retorna o seguinte:\n",
    "\n",
    "``array([0, 1, 2, 3, 4, 5, 6, 7, 8, 9])``\n",
    "\n",
    "Por que. A funçao arange, o primeiro argumento é ponto inicial, o pyhton começa com o index zero, então começamos no zero, e ele vai até o 10 mas não inclui, quando ele chega no 10 ele para de incrementar a lista, e o retorno é um **array**.\n",
    "Na função arange, o terceiro argumento é o momento que o conteudo pula pro proximo, ou seja, se utilizarmos\n",
    "\n",
    "``np.arange(0,11,2) ``\n",
    "\n",
    "\n",
    "O pyhton vai retornar\n",
    "\n",
    "``array([ 0,  2,  4,  6,  8, 10])``\n",
    "\n",
    "Pq foi o momento que falamos pra ele pular para o proximo elemento\n",
    "\n",
    "---\n",
    "## Zeros()\n",
    "\n",
    "\n",
    "De forma similar, temos a função zeros().\n",
    "\n",
    "Ela cria um array contendo apenas zeros.\n",
    "\n",
    "``np.zeros(3) `` \n",
    "\n",
    "Retorna\n",
    "\n",
    "`` array([0., 0., 0.]) ``\n",
    "\n",
    "Conseguimos porem, trabalhar em 3 dimensões aqui.\n",
    "Utilizando a função zeros podemos gerar o seguinte\n",
    "\n",
    "``np.zeros((3,4))``\n",
    "\n",
    "\n",
    "A função aceita receber como parametro uma tupla, com as coordenadas da matriz que desejamos gerar, e por consequencia se chamamos a função, ela retorna \n",
    "\n",
    "``array([[0., 0., 0., 0.],\n",
    "       [0., 0., 0., 0.],\n",
    "       [0., 0., 0., 0.]])``\n",
    "       \n",
    " \n",
    "---\n",
    "\n",
    "## Ones()\n",
    "\n",
    "Da mesma forma, o ones, alimenta um array com 1.\n",
    "\n",
    "``np.ones(4)``\n",
    "\n",
    "retorna \n",
    "\n",
    "``array([1., 1., 1., 1.])``\n",
    "\n",
    "E se passarmos uma tupla com as coordenadas\n",
    "\n",
    "``np.ones((5,5))``\n",
    "\n",
    "O python retorna\n",
    "\n",
    "``array([[1., 1., 1., 1., 1.],\n",
    "       [1., 1., 1., 1., 1.],\n",
    "       [1., 1., 1., 1., 1.],\n",
    "       [1., 1., 1., 1., 1.],\n",
    "       [1., 1., 1., 1., 1.]])``\n",
    "       \n",
    "---\n",
    "\n",
    "## Linspace()\n",
    "\n",
    "O linspace é similar com o ``arange()``  mas funciona diferente\n",
    "\n",
    "Ele gera um array, **bidimensional**.\n",
    "\n",
    "``np.linspace(0,5,4)``\n",
    "\n",
    "A função recebe 3 parametros, o inicio, o fim e a quantidade de divisões que serão feitas do inicio até o elemento final, ou seja, o retorno da função acima vai ser \n",
    "\n",
    "``array([0.        , 1.66666667, 3.33333333, 5.        ])``\n",
    "\n",
    "Um array, com 4 elementos, sendo o primeiro o elemento que foi dado como inicio, e o ultimo o elemento final.\n",
    "\n",
    "---\n",
    "\n",
    "## eye()\n",
    "\n",
    "A função ``eye()`` gera uma matriz identidade, ou seja, a linha diagonal é composta por 1, e o resto dos elementos são zeros.\n",
    "\n",
    "A função recebe um parametro unico, que é quantidade de elementos que a matriz vai ter, é só um elemento por ser uma matriz quadrada sempre.\n",
    "\n",
    "``np.eye(5)`` \n",
    "\n",
    "Retorna o seguinte resultado\n",
    "\n",
    "``array([[1., 0., 0., 0., 0.],\n",
    "       [0., 1., 0., 0., 0.],\n",
    "       [0., 0., 1., 0., 0.],\n",
    "       [0., 0., 0., 1., 0.],\n",
    "       [0., 0., 0., 0., 1.]])``\n",
    "       \n",
    "       \n",
    "---\n",
    "Vale dar uma olhada nas funções.\n",
    "``np.random.<tab>``\n",
    "\n",
    "## np.random.rand()\n",
    "\n",
    "No numpy, existem varias formas de popular listas com numeros aleatorios entre 0 e 1.\n",
    "\n",
    "``np.random.rand(4)``\n",
    "    \n",
    "    \n",
    "Vai retornar algo similar com\n",
    "\n",
    "``array([0.03016177, 0.09913604, 0.07849943, 0.02958948])``\n",
    "\n",
    "A função pode gerar arrays de duas dimensões, só que, aqui ao inves do que foi feito anteriormente, só precisamos passar as coordenadas.\n",
    "\n",
    "``np.random.rand(5,3)``\n",
    "\n",
    "Vai retornar algo similar com\n",
    "\n",
    "``array([[0.60906242, 0.96936401, 0.73594521],\n",
    "       [0.00175455, 0.91728094, 0.47468791],\n",
    "       [0.26374371, 0.97116156, 0.48839286],\n",
    "       [0.62737613, 0.65366933, 0.78594883],\n",
    "       [0.09566105, 0.84459024, 0.63480792]])``\n",
    "       \n",
    "Sabemos que é de duas dimensões apenas pelas duas chaves logo após os paranteses.\n",
    "\n",
    "---\n",
    "\n",
    "## np.random.randn()\n",
    "\n",
    "Aqui, iremos gerar um array com numeros aleatorios baseados na distribuição gaussiana, eu não tenho nem ideia de como isso funciona\n",
    "\n",
    "Quando chamamos a função\n",
    "\n",
    "``np.random.randn(5)`` \n",
    "\n",
    "Retornamos algo similar com \n",
    "\n",
    "`` array([-0.80379066,  0.82267513, -0.25327063, -2.01766659, -1.37231566])``\n",
    "\n",
    "A função tambem pode gerar uma matriz de 3 dimensões, mas não precisa ser passado uma tupla, apenas as coordenadas\n",
    "\n",
    "\n",
    "``np.random.randn(4,3)``\n",
    "\n",
    "Vai retornar algo similar com\n",
    "\n",
    "``array([[ 1.40127254,  1.50152994,  0.32566803],\n",
    "       [ 1.02160111,  1.34391654,  0.63664436],\n",
    "       [-0.13289456, -0.46988342, -0.06743487],\n",
    "       [-0.30368728, -1.162309  , -0.79853159]])``\n",
    "       \n",
    "       \n",
    "---\n",
    "\n",
    "## np.random.randint()\n",
    "\n",
    "A função gera numero inteiros aleatorios, ela recebe 3 parametros, mas aceita se for passado apenas 2\n",
    "\n",
    "``np.random.randint(1,100)``\n",
    " \n",
    " \n",
    "Vai retornar um unico inteiro aleatorio, entre 1(inclusive) e 100(não inclusive)\n",
    "\n",
    "``np.random.randint(1,100,10)``\n",
    "\n",
    "Vai retornar uma lista de 10 numeros aleatorios, em um array, entre os numeros 1 e 100(não incluso), ficando com algo similar a \n",
    "\n",
    "``array([78, 61,  5, 73, 34, 65, 59,  7, 21, 56])``\n",
    "\n",
    "---"
   ]
  },
  {
   "cell_type": "code",
   "execution_count": 2,
   "metadata": {},
   "outputs": [],
   "source": [
    "my_list = [1,2,3]"
   ]
  },
  {
   "cell_type": "code",
   "execution_count": 3,
   "metadata": {},
   "outputs": [
    {
     "data": {
      "text/plain": [
       "[1, 2, 3]"
      ]
     },
     "execution_count": 3,
     "metadata": {},
     "output_type": "execute_result"
    }
   ],
   "source": [
    "my_list\n"
   ]
  },
  {
   "cell_type": "code",
   "execution_count": 4,
   "metadata": {},
   "outputs": [],
   "source": [
    "import numpy as np"
   ]
  },
  {
   "cell_type": "code",
   "execution_count": 5,
   "metadata": {},
   "outputs": [
    {
     "data": {
      "text/plain": [
       "array([1, 2, 3])"
      ]
     },
     "execution_count": 5,
     "metadata": {},
     "output_type": "execute_result"
    }
   ],
   "source": [
    "np.array(my_list)"
   ]
  },
  {
   "cell_type": "code",
   "execution_count": 6,
   "metadata": {},
   "outputs": [],
   "source": [
    "array1 = np.array(my_list)"
   ]
  },
  {
   "cell_type": "code",
   "execution_count": 7,
   "metadata": {},
   "outputs": [
    {
     "data": {
      "text/plain": [
       "array([1, 2, 3])"
      ]
     },
     "execution_count": 7,
     "metadata": {},
     "output_type": "execute_result"
    }
   ],
   "source": [
    "array1"
   ]
  },
  {
   "cell_type": "code",
   "execution_count": 8,
   "metadata": {},
   "outputs": [],
   "source": [
    "my_matriz = [[1,2,3],[4,5,6],[7,8,8]]"
   ]
  },
  {
   "cell_type": "code",
   "execution_count": 9,
   "metadata": {},
   "outputs": [
    {
     "data": {
      "text/plain": [
       "array([[1, 2, 3],\n",
       "       [4, 5, 6],\n",
       "       [7, 8, 8]])"
      ]
     },
     "execution_count": 9,
     "metadata": {},
     "output_type": "execute_result"
    }
   ],
   "source": [
    "np.array(my_matriz)"
   ]
  },
  {
   "cell_type": "code",
   "execution_count": 10,
   "metadata": {},
   "outputs": [
    {
     "data": {
      "text/plain": [
       "array([0, 1, 2, 3, 4, 5, 6, 7, 8, 9])"
      ]
     },
     "execution_count": 10,
     "metadata": {},
     "output_type": "execute_result"
    }
   ],
   "source": [
    "np.arange(0,10)"
   ]
  },
  {
   "cell_type": "code",
   "execution_count": 11,
   "metadata": {},
   "outputs": [
    {
     "data": {
      "text/plain": [
       "array([ 0,  2,  4,  6,  8, 10])"
      ]
     },
     "execution_count": 11,
     "metadata": {},
     "output_type": "execute_result"
    }
   ],
   "source": [
    "np.arange(0,11,2) "
   ]
  },
  {
   "cell_type": "code",
   "execution_count": 12,
   "metadata": {},
   "outputs": [
    {
     "data": {
      "text/plain": [
       "array([0., 0., 0.])"
      ]
     },
     "execution_count": 12,
     "metadata": {},
     "output_type": "execute_result"
    }
   ],
   "source": [
    "np.zeros(3)"
   ]
  },
  {
   "cell_type": "code",
   "execution_count": 13,
   "metadata": {},
   "outputs": [
    {
     "data": {
      "text/plain": [
       "array([[0., 0., 0., 0.],\n",
       "       [0., 0., 0., 0.],\n",
       "       [0., 0., 0., 0.]])"
      ]
     },
     "execution_count": 13,
     "metadata": {},
     "output_type": "execute_result"
    }
   ],
   "source": [
    "np.zeros((3,4))"
   ]
  },
  {
   "cell_type": "code",
   "execution_count": 14,
   "metadata": {},
   "outputs": [
    {
     "data": {
      "text/plain": [
       "array([1., 1., 1., 1.])"
      ]
     },
     "execution_count": 14,
     "metadata": {},
     "output_type": "execute_result"
    }
   ],
   "source": [
    "np.ones(4)"
   ]
  },
  {
   "cell_type": "code",
   "execution_count": 15,
   "metadata": {},
   "outputs": [
    {
     "data": {
      "text/plain": [
       "array([[1., 1., 1., 1., 1.],\n",
       "       [1., 1., 1., 1., 1.],\n",
       "       [1., 1., 1., 1., 1.],\n",
       "       [1., 1., 1., 1., 1.],\n",
       "       [1., 1., 1., 1., 1.]])"
      ]
     },
     "execution_count": 15,
     "metadata": {},
     "output_type": "execute_result"
    }
   ],
   "source": [
    "np.ones((5,5))"
   ]
  },
  {
   "cell_type": "code",
   "execution_count": 16,
   "metadata": {},
   "outputs": [
    {
     "data": {
      "text/plain": [
       "array([0.        , 1.66666667, 3.33333333, 5.        ])"
      ]
     },
     "execution_count": 16,
     "metadata": {},
     "output_type": "execute_result"
    }
   ],
   "source": [
    "np.linspace(0,5,4)"
   ]
  },
  {
   "cell_type": "code",
   "execution_count": 17,
   "metadata": {},
   "outputs": [
    {
     "data": {
      "text/plain": [
       "array([[1., 0., 0., 0., 0.],\n",
       "       [0., 1., 0., 0., 0.],\n",
       "       [0., 0., 1., 0., 0.],\n",
       "       [0., 0., 0., 1., 0.],\n",
       "       [0., 0., 0., 0., 1.]])"
      ]
     },
     "execution_count": 17,
     "metadata": {},
     "output_type": "execute_result"
    }
   ],
   "source": [
    "np.eye(5)"
   ]
  },
  {
   "cell_type": "code",
   "execution_count": 18,
   "metadata": {},
   "outputs": [
    {
     "data": {
      "text/plain": [
       "array([0.84543811, 0.64822519, 0.56713222, 0.31959381])"
      ]
     },
     "execution_count": 18,
     "metadata": {},
     "output_type": "execute_result"
    }
   ],
   "source": [
    "np.random.rand(4)"
   ]
  },
  {
   "cell_type": "code",
   "execution_count": 19,
   "metadata": {},
   "outputs": [
    {
     "data": {
      "text/plain": [
       "array([[0.98596715, 0.49939354, 0.8622818 ],\n",
       "       [0.69950969, 0.26441058, 0.84946573],\n",
       "       [0.09912608, 0.87324519, 0.08211009],\n",
       "       [0.76044548, 0.40170746, 0.69644527],\n",
       "       [0.68137199, 0.11183818, 0.55062405]])"
      ]
     },
     "execution_count": 19,
     "metadata": {},
     "output_type": "execute_result"
    }
   ],
   "source": [
    "np.random.rand(5,3)"
   ]
  },
  {
   "cell_type": "code",
   "execution_count": 20,
   "metadata": {},
   "outputs": [
    {
     "data": {
      "text/plain": [
       "array([ 1.72948513,  1.12193323, -0.09555576,  1.04853471, -0.53432663])"
      ]
     },
     "execution_count": 20,
     "metadata": {},
     "output_type": "execute_result"
    }
   ],
   "source": [
    "np.random.randn(5)"
   ]
  },
  {
   "cell_type": "code",
   "execution_count": 21,
   "metadata": {},
   "outputs": [
    {
     "data": {
      "text/plain": [
       "array([[-0.13511502, -0.0818218 , -0.86030351],\n",
       "       [ 2.05696164, -1.09681778,  0.6616067 ],\n",
       "       [-0.88340103,  0.05035442,  1.36908295],\n",
       "       [-0.75677001, -1.19686356,  0.55621373]])"
      ]
     },
     "execution_count": 21,
     "metadata": {},
     "output_type": "execute_result"
    }
   ],
   "source": [
    "np.random.randn(4,3)"
   ]
  },
  {
   "cell_type": "code",
   "execution_count": 22,
   "metadata": {},
   "outputs": [
    {
     "data": {
      "text/plain": [
       "array([94, 38, 43, 24, 72, 44, 50, 60, 60, 62])"
      ]
     },
     "execution_count": 22,
     "metadata": {},
     "output_type": "execute_result"
    }
   ],
   "source": [
    "np.random.randint(1,100,10)"
   ]
  },
  {
   "cell_type": "markdown",
   "metadata": {},
   "source": [
    "# Arrays\n",
    "\n",
    "Vamo popular um array\n",
    "\n",
    "`` arr = np.arange(25)``\n",
    "\n",
    "Quando chamamos de volta a função, temos um array, de duas dimensões, populado pelos elementos 0 até o 24.\n",
    "\n",
    "`` array([ 0,  1,  2,  3,  4,  5,  6,  7,  8,  9, 10, 11, 12, 13, 14, 15, 16, 17, 18, 19, 20, 21, 22, 23, 24])``\n",
    "\n",
    "de forma similar, podemos gerar \n",
    "\n",
    "``np.random.randint(0,50,10)``\n",
    "\n",
    "Vai gerar um array, de inteiros, entre 0 e 50(não incluso) mas com 10 elementos\n",
    "\n",
    "``array([12, 42,  2, 22,  3, 46, 43,  8, 49, 14])`` \n",
    "\n",
    "Agora, se queremos pegar o primeiro array, e transformar ele em tridimencional, podemos utilizar a função ``reshape``\n",
    "\n",
    "## reshape()\n",
    "\n",
    "A função ``reshape()`` remondula o array criado, ela recebe dois parametros, onde seriam as dimenções do array que vai ser retornado.\n",
    "Quando rodamos \n",
    "\n",
    "``arr.reshape(5,5)``\n",
    "\n",
    "O python retorna \n",
    "\n",
    "``array([[ 0,  1,  2,  3,  4],\n",
    "       [ 5,  6,  7,  8,  9],\n",
    "       [10, 11, 12, 13, 14],\n",
    "       [15, 16, 17, 18, 19],\n",
    "       [20, 21, 22, 23, 24]])``\n",
    "       \n",
    "Que é um array de 3 dimensões, que contem os mesmos elementos que o array inicial.\n",
    "\n",
    "**O python vai retornar um erro se ele não conseguir preencher a matriz completamente(para verificar podemos multiplicar os numeros passados na função reshape, o resultado tem que ser igual ao total de elementos do array)**\n",
    "\n",
    "---\n",
    "\n",
    "## .max() .min() .argmax() .argmin()\n",
    "\n",
    "A função ``max()`` retorna o maior valor de um array\n",
    "\n",
    "A função ``min()`` retorna o menor valor de um array\n",
    "\n",
    "Ou seja,\n",
    "\n",
    "``brr.max()`` \n",
    "\n",
    "Retorna ``49`` que é o maior elemento do array brr que foi criado anteriormente\n",
    "\n",
    "``brr.min()``\n",
    "\n",
    "Retorna ``2`` que é o menor elemento do array brr que foi criado anteriormente\n",
    "\n",
    "---\n",
    "\n",
    "A função ``.argmax()`` retorna a posição no array do maior valor\n",
    "\n",
    "A função ``.argmin()`` retorna a posição no array do menor valor\n",
    "\n",
    "Ou seja,\n",
    "\n",
    "``brr.argmax()`` \n",
    "\n",
    "Retorna ``8`` que é o index do ``49`` que é o maior numero do array\n",
    "\n",
    "``brr.argmin()``\n",
    "\n",
    "Retorna ``2`` que é o index do ``2`` que é o menor numero do array\n",
    "\n",
    "---\n",
    "\n",
    "## shape\n",
    "\n",
    "A função shape serve para descobrirmos a dimensão do array, o indice da matriz dele\n",
    " Por exemplo ``arr.shape`` Retorna ``(25,)`` ou seja, é bidimensional, e contem 25 elementos. Em outras palavras, é uma vertical unica, com 25 colunas\n",
    " \n",
    " Agora, quando utilizamos ``crr.shape`` Retornamos ``(5,5)`` que é as medidas que foram passadas quando realizamos o reshape do array ``arr``\n",
    " \n",
    " ---\n",
    " \n",
    " ## dtype\n",
    " \n",
    " A função retorna o tipo de dado que esta armazenado no array\n",
    " \n",
    " ``arr.dtype`` \n",
    " \n",
    " Retorna\n",
    " \n",
    " ``dtype('int64')``\n",
    " \n",
    " que é o tipo de dado armazenado no array\n",
    " \n",
    " "
   ]
  },
  {
   "cell_type": "code",
   "execution_count": 23,
   "metadata": {},
   "outputs": [],
   "source": [
    "arr = np.arange(25)"
   ]
  },
  {
   "cell_type": "code",
   "execution_count": 24,
   "metadata": {},
   "outputs": [
    {
     "data": {
      "text/plain": [
       "array([ 0,  1,  2,  3,  4,  5,  6,  7,  8,  9, 10, 11, 12, 13, 14, 15, 16,\n",
       "       17, 18, 19, 20, 21, 22, 23, 24])"
      ]
     },
     "execution_count": 24,
     "metadata": {},
     "output_type": "execute_result"
    }
   ],
   "source": [
    "arr"
   ]
  },
  {
   "cell_type": "code",
   "execution_count": 25,
   "metadata": {},
   "outputs": [],
   "source": [
    "brr = np.random.randint(0,50,10)"
   ]
  },
  {
   "cell_type": "code",
   "execution_count": 26,
   "metadata": {},
   "outputs": [
    {
     "data": {
      "text/plain": [
       "array([36, 19, 13, 44, 20,  7,  0, 35,  6,  2])"
      ]
     },
     "execution_count": 26,
     "metadata": {},
     "output_type": "execute_result"
    }
   ],
   "source": [
    "brr"
   ]
  },
  {
   "cell_type": "code",
   "execution_count": 27,
   "metadata": {},
   "outputs": [
    {
     "data": {
      "text/plain": [
       "array([[ 0,  1,  2,  3,  4],\n",
       "       [ 5,  6,  7,  8,  9],\n",
       "       [10, 11, 12, 13, 14],\n",
       "       [15, 16, 17, 18, 19],\n",
       "       [20, 21, 22, 23, 24]])"
      ]
     },
     "execution_count": 27,
     "metadata": {},
     "output_type": "execute_result"
    }
   ],
   "source": [
    "arr.reshape(5,5)"
   ]
  },
  {
   "cell_type": "code",
   "execution_count": 28,
   "metadata": {},
   "outputs": [
    {
     "data": {
      "text/plain": [
       "44"
      ]
     },
     "execution_count": 28,
     "metadata": {},
     "output_type": "execute_result"
    }
   ],
   "source": [
    "brr.max()"
   ]
  },
  {
   "cell_type": "code",
   "execution_count": 29,
   "metadata": {},
   "outputs": [
    {
     "data": {
      "text/plain": [
       "0"
      ]
     },
     "execution_count": 29,
     "metadata": {},
     "output_type": "execute_result"
    }
   ],
   "source": [
    "brr.min()"
   ]
  },
  {
   "cell_type": "code",
   "execution_count": 30,
   "metadata": {},
   "outputs": [
    {
     "data": {
      "text/plain": [
       "array([36, 19, 13, 44, 20,  7,  0, 35,  6,  2])"
      ]
     },
     "execution_count": 30,
     "metadata": {},
     "output_type": "execute_result"
    }
   ],
   "source": [
    "brr"
   ]
  },
  {
   "cell_type": "code",
   "execution_count": 31,
   "metadata": {},
   "outputs": [
    {
     "data": {
      "text/plain": [
       "3"
      ]
     },
     "execution_count": 31,
     "metadata": {},
     "output_type": "execute_result"
    }
   ],
   "source": [
    "brr.argmax()"
   ]
  },
  {
   "cell_type": "code",
   "execution_count": 32,
   "metadata": {},
   "outputs": [
    {
     "data": {
      "text/plain": [
       "6"
      ]
     },
     "execution_count": 32,
     "metadata": {},
     "output_type": "execute_result"
    }
   ],
   "source": [
    "brr.argmin()"
   ]
  },
  {
   "cell_type": "code",
   "execution_count": 33,
   "metadata": {},
   "outputs": [
    {
     "data": {
      "text/plain": [
       "array([ 0,  1,  2,  3,  4,  5,  6,  7,  8,  9, 10, 11, 12, 13, 14, 15, 16,\n",
       "       17, 18, 19, 20, 21, 22, 23, 24])"
      ]
     },
     "execution_count": 33,
     "metadata": {},
     "output_type": "execute_result"
    }
   ],
   "source": [
    "arr"
   ]
  },
  {
   "cell_type": "code",
   "execution_count": 34,
   "metadata": {},
   "outputs": [],
   "source": [
    "crr = arr.reshape(5,5)"
   ]
  },
  {
   "cell_type": "code",
   "execution_count": 35,
   "metadata": {},
   "outputs": [
    {
     "data": {
      "text/plain": [
       "array([[ 0,  1,  2,  3,  4],\n",
       "       [ 5,  6,  7,  8,  9],\n",
       "       [10, 11, 12, 13, 14],\n",
       "       [15, 16, 17, 18, 19],\n",
       "       [20, 21, 22, 23, 24]])"
      ]
     },
     "execution_count": 35,
     "metadata": {},
     "output_type": "execute_result"
    }
   ],
   "source": [
    "crr"
   ]
  },
  {
   "cell_type": "code",
   "execution_count": 36,
   "metadata": {},
   "outputs": [
    {
     "data": {
      "text/plain": [
       "(25,)"
      ]
     },
     "execution_count": 36,
     "metadata": {},
     "output_type": "execute_result"
    }
   ],
   "source": [
    "arr.shape"
   ]
  },
  {
   "cell_type": "code",
   "execution_count": 37,
   "metadata": {},
   "outputs": [
    {
     "data": {
      "text/plain": [
       "(5, 5)"
      ]
     },
     "execution_count": 37,
     "metadata": {},
     "output_type": "execute_result"
    }
   ],
   "source": [
    "crr.shape"
   ]
  },
  {
   "cell_type": "code",
   "execution_count": 38,
   "metadata": {},
   "outputs": [
    {
     "data": {
      "text/plain": [
       "dtype('int64')"
      ]
     },
     "execution_count": 38,
     "metadata": {},
     "output_type": "execute_result"
    }
   ],
   "source": [
    "arr.dtype"
   ]
  },
  {
   "cell_type": "markdown",
   "metadata": {},
   "source": [
    "---\n",
    "## Indexing e Selection\n",
    "\n",
    "Trabalhando com index no array funciona normal.\n",
    "Primeiro populamos o array\n",
    "\n",
    "``` arr = np.arrange(0,11)```\n",
    "\n",
    "Dessa forma quando chamamos a variavel arr ela retorna \n",
    "\n",
    "``` array([0, 1, 2, 3, 4, 5, 6, 7, 8, 9, 10])```\n",
    "\n",
    "Até o 10 pois não é inclusive.\n",
    "\n",
    "Tendo o array populado, podemos trabalhar com as index dele.\n",
    "\n",
    "Caso eu queira chamar o elemento no indice 8 ``` arr[8]```\n",
    "\n",
    "Retornaremos 8 pois temos o numero 8 no indice 8.\n",
    "\n",
    "Da mesma forma se quisermos pegar intervalos. ``` arr[3:8]```\n",
    "\n",
    "Retorna ```array([3, 4, 5, 6, 7])``` \n",
    "\n",
    "Agora, se quisermos pegar de um ponto até o fim ou do inicio até um indice especifico, podemos trabalhar com o dois pontos``` arr[:5]```\n",
    "\n",
    "Retorna desde o primeiro indice até o elemento que está no indice 4, o 5 não entra pois não é inclusive.\n",
    "\n",
    "Da mesma forma, se quisermos ir pro fim do array ```arr[4:]```\n",
    "\n",
    "Dessa forma teremos o array retornando do indice 4 até o ultimo elemento do array inclusive.\n",
    "\n",
    "---\n",
    "\n",
    "### Slice\n",
    "\n",
    "Quando estamos trabalhando com arrays e queremos lidar só com um intervalo de um determinado array. por exemplo\n",
    "Temos a variavel populada arr, partindo disso vamos popular uma variavle com um pedaço dessa.\n",
    "\n",
    "```pedaco_arr = arr[2:5]``` \n",
    "\n",
    "Que quando chamada, vai retornar o elementos ```[2, 3, 4]```\n",
    "\n",
    "Agora, se quiseremos fazer alteração nesses elementos, o array inicial vai sofrer as mudanças tambem. por exemplo\n",
    "\n",
    "```pedaco_arr[:] = 88``` \n",
    "\n",
    "O que acontece aqui é o seguinte, pegamos a variavel ```pedaco_arr```  e por usarmos ```[:]``` vamos popular tudo o que tem dentro dela com 88, por mais que não saibamos quando index que ta ocupado ou não e essa alteração vai surtir efeito na variavel ```arr```. Agora, se chamarmos a variavel ```arr``` vai nos retornar ``` array([ 0,  1, 88, 88, 88,  5,  6,  7,  8,  9, 10])``` que é o resultado após as alterações feitas. Basicamente os dados não são copiados para um novo array, e sim funciona apenas como uma ```view```\n",
    "\n",
    "---\n"
   ]
  },
  {
   "cell_type": "code",
   "execution_count": 39,
   "metadata": {},
   "outputs": [],
   "source": [
    "import numpy as np"
   ]
  },
  {
   "cell_type": "code",
   "execution_count": 52,
   "metadata": {},
   "outputs": [],
   "source": [
    "arr = np.arange(0,11)"
   ]
  },
  {
   "cell_type": "code",
   "execution_count": 41,
   "metadata": {},
   "outputs": [
    {
     "data": {
      "text/plain": [
       "array([ 0,  1,  2,  3,  4,  5,  6,  7,  8,  9, 10])"
      ]
     },
     "execution_count": 41,
     "metadata": {},
     "output_type": "execute_result"
    }
   ],
   "source": [
    "arr"
   ]
  },
  {
   "cell_type": "code",
   "execution_count": 42,
   "metadata": {},
   "outputs": [
    {
     "data": {
      "text/plain": [
       "array([3, 4, 5, 6, 7])"
      ]
     },
     "execution_count": 42,
     "metadata": {},
     "output_type": "execute_result"
    }
   ],
   "source": [
    "arr[3:8]"
   ]
  },
  {
   "cell_type": "code",
   "execution_count": 43,
   "metadata": {},
   "outputs": [
    {
     "data": {
      "text/plain": [
       "array([0, 1, 2, 3, 4])"
      ]
     },
     "execution_count": 43,
     "metadata": {},
     "output_type": "execute_result"
    }
   ],
   "source": [
    "arr[:5]"
   ]
  },
  {
   "cell_type": "code",
   "execution_count": 44,
   "metadata": {},
   "outputs": [
    {
     "data": {
      "text/plain": [
       "array([ 4,  5,  6,  7,  8,  9, 10])"
      ]
     },
     "execution_count": 44,
     "metadata": {},
     "output_type": "execute_result"
    }
   ],
   "source": [
    "arr[4:]"
   ]
  },
  {
   "cell_type": "code",
   "execution_count": 45,
   "metadata": {},
   "outputs": [],
   "source": [
    "pedaco_arr = arr[2:5]"
   ]
  },
  {
   "cell_type": "code",
   "execution_count": 48,
   "metadata": {},
   "outputs": [
    {
     "data": {
      "text/plain": [
       "array([2, 3, 4])"
      ]
     },
     "execution_count": 48,
     "metadata": {},
     "output_type": "execute_result"
    }
   ],
   "source": [
    "pedaco_arr"
   ]
  },
  {
   "cell_type": "code",
   "execution_count": 49,
   "metadata": {},
   "outputs": [],
   "source": [
    "pedaco_arr[:] = 88"
   ]
  },
  {
   "cell_type": "code",
   "execution_count": 50,
   "metadata": {},
   "outputs": [
    {
     "data": {
      "text/plain": [
       "array([88, 88, 88])"
      ]
     },
     "execution_count": 50,
     "metadata": {},
     "output_type": "execute_result"
    }
   ],
   "source": [
    "pedaco_arr"
   ]
  },
  {
   "cell_type": "code",
   "execution_count": 51,
   "metadata": {},
   "outputs": [
    {
     "data": {
      "text/plain": [
       "array([ 0,  1, 88, 88, 88,  5,  6,  7,  8,  9, 10])"
      ]
     },
     "execution_count": 51,
     "metadata": {},
     "output_type": "execute_result"
    }
   ],
   "source": [
    "arr"
   ]
  },
  {
   "cell_type": "markdown",
   "metadata": {},
   "source": [
    "---\n",
    "## Indexing em 2d\n",
    "\n",
    "Quando trabalhamos com arrays em 2d e queremos indexar elementos especificos, podemos fazer de duas formas.\n",
    "\n",
    "- Utilizandos duas chaves\n",
    "\n",
    "- Utilizando virgulas.\n",
    "\n",
    "Basicamente o metodo e o resultado é o mesmo.\n",
    "Começamos populando um array 2d.\n",
    "\n",
    "``` arr_2d = np.array([[5,10,15],[10,20,30],[15,30,45]]) ```\n",
    "\n",
    "Caso queira pegar um elemento no primeira e terceira coluna podemos utilizar\n",
    "\n",
    "```arr_2d[0,2] ``` ou ```arr_2d[0][2]``` que o resultado sera o mesmo\n",
    "\n",
    "---\n",
    "\n",
    "## Slide em 2d\n",
    "\n",
    "Se quisermos pegar pedaços do array em 2d tb podemos.\n",
    "\n",
    "por exemplo\n",
    "\n",
    "\n",
    "```arr_2d[:2,1:] ```\n",
    "\n",
    "Que vai pegar apenas as duas primeiras linhas e da primeira coluna em diante. Desta forma conseguimso filtrar os elementos que retornam, podendo ser apenas uma coluna, apenas um pedaço de uma linha, apenas um quadrante do array.\n",
    "\n",
    "---\n",
    "## Elementos Condicionais\n",
    "\n",
    "\n",
    "```arr = np.array[1:10] ``` \n",
    "\n",
    "Podemos utilizar os elementos do array para fazer validações utilizando elementos de comparação. por exemplo\n",
    "\n",
    "Partindo do array populado, podemos verificar qual dos elementos é maior que 5, nos retornara resultados booleanos.\n",
    "\n",
    "```arr > 5 ```\n",
    "\n",
    "```array([False, False, False, False, False,  True,  True,  True,  True,True])```\n",
    "        \n",
    "        \n",
    "Conseguimos guardar o resultado em uma variavel.\n",
    "\n",
    "```bool_arr = arr > 5 ```\n",
    "\n",
    "Se quisermos ver os elementos numericos que retornam dessa consulta, podemos utilizar ```arr[bool_arr]```\n",
    "\n",
    "que nos retornara um array apenas com os elementos que resultaram como ```True ``` anteriormente.\n",
    "\n",
    "Para não utilizarmos duas etapas, podemos realizar a consulta direamente nas chaves: ```arr[arr > 5]```\n",
    "Que o resultado vai ser o mesmo e economizamos um variavel."
   ]
  },
  {
   "cell_type": "code",
   "execution_count": 75,
   "metadata": {},
   "outputs": [],
   "source": [
    "arr_2d = np.array([[5,10,15],[10,20,30],[15,30,45]])"
   ]
  },
  {
   "cell_type": "code",
   "execution_count": 56,
   "metadata": {},
   "outputs": [
    {
     "data": {
      "text/plain": [
       "array([[ 5, 10, 15],\n",
       "       [10, 20, 30],\n",
       "       [15, 30, 45]])"
      ]
     },
     "execution_count": 56,
     "metadata": {},
     "output_type": "execute_result"
    }
   ],
   "source": [
    "arr_2d"
   ]
  },
  {
   "cell_type": "code",
   "execution_count": 57,
   "metadata": {},
   "outputs": [
    {
     "data": {
      "text/plain": [
       "15"
      ]
     },
     "execution_count": 57,
     "metadata": {},
     "output_type": "execute_result"
    }
   ],
   "source": [
    "arr_2d[0,2]"
   ]
  },
  {
   "cell_type": "code",
   "execution_count": 59,
   "metadata": {},
   "outputs": [
    {
     "data": {
      "text/plain": [
       "15"
      ]
     },
     "execution_count": 59,
     "metadata": {},
     "output_type": "execute_result"
    }
   ],
   "source": [
    "arr_2d[0][2]"
   ]
  },
  {
   "cell_type": "code",
   "execution_count": 60,
   "metadata": {},
   "outputs": [
    {
     "data": {
      "text/plain": [
       "array([[10, 15],\n",
       "       [20, 30]])"
      ]
     },
     "execution_count": 60,
     "metadata": {},
     "output_type": "execute_result"
    }
   ],
   "source": [
    "arr_2d[:2,1:]"
   ]
  },
  {
   "cell_type": "code",
   "execution_count": 64,
   "metadata": {},
   "outputs": [
    {
     "data": {
      "text/plain": [
       "array([[10, 15],\n",
       "       [20, 30],\n",
       "       [30, 45]])"
      ]
     },
     "execution_count": 64,
     "metadata": {},
     "output_type": "execute_result"
    }
   ],
   "source": [
    "arr_2d[:,1:]"
   ]
  },
  {
   "cell_type": "code",
   "execution_count": 71,
   "metadata": {},
   "outputs": [],
   "source": [
    "arr = np.arange(1,11)"
   ]
  },
  {
   "cell_type": "code",
   "execution_count": 72,
   "metadata": {},
   "outputs": [
    {
     "data": {
      "text/plain": [
       "array([ 1,  2,  3,  4,  5,  6,  7,  8,  9, 10])"
      ]
     },
     "execution_count": 72,
     "metadata": {},
     "output_type": "execute_result"
    }
   ],
   "source": [
    "arr"
   ]
  },
  {
   "cell_type": "code",
   "execution_count": 74,
   "metadata": {},
   "outputs": [
    {
     "data": {
      "text/plain": [
       "array([False, False, False, False, False,  True,  True,  True,  True,\n",
       "        True])"
      ]
     },
     "execution_count": 74,
     "metadata": {},
     "output_type": "execute_result"
    }
   ],
   "source": [
    "arr > 5"
   ]
  },
  {
   "cell_type": "code",
   "execution_count": 76,
   "metadata": {},
   "outputs": [],
   "source": [
    "bool_arr = arr > 5 "
   ]
  },
  {
   "cell_type": "code",
   "execution_count": 77,
   "metadata": {},
   "outputs": [
    {
     "data": {
      "text/plain": [
       "array([ 6,  7,  8,  9, 10])"
      ]
     },
     "execution_count": 77,
     "metadata": {},
     "output_type": "execute_result"
    }
   ],
   "source": [
    "arr[bool_arr]"
   ]
  },
  {
   "cell_type": "code",
   "execution_count": 79,
   "metadata": {},
   "outputs": [
    {
     "data": {
      "text/plain": [
       "array([ 6,  7,  8,  9, 10])"
      ]
     },
     "execution_count": 79,
     "metadata": {},
     "output_type": "execute_result"
    }
   ],
   "source": [
    "arr[arr > 5]"
   ]
  },
  {
   "cell_type": "code",
   "execution_count": 80,
   "metadata": {},
   "outputs": [],
   "source": [
    "arr_2d = np.arange(50).reshape(5,10)"
   ]
  },
  {
   "cell_type": "code",
   "execution_count": 82,
   "metadata": {},
   "outputs": [
    {
     "data": {
      "text/plain": [
       "array([[ 0,  1,  2,  3,  4,  5,  6,  7,  8,  9],\n",
       "       [10, 11, 12, 13, 14, 15, 16, 17, 18, 19],\n",
       "       [20, 21, 22, 23, 24, 25, 26, 27, 28, 29],\n",
       "       [30, 31, 32, 33, 34, 35, 36, 37, 38, 39],\n",
       "       [40, 41, 42, 43, 44, 45, 46, 47, 48, 49]])"
      ]
     },
     "execution_count": 82,
     "metadata": {},
     "output_type": "execute_result"
    }
   ],
   "source": [
    "arr_2d"
   ]
  },
  {
   "cell_type": "code",
   "execution_count": 83,
   "metadata": {},
   "outputs": [
    {
     "data": {
      "text/plain": [
       "array([[13, 14],\n",
       "       [23, 24]])"
      ]
     },
     "execution_count": 83,
     "metadata": {},
     "output_type": "execute_result"
    }
   ],
   "source": [
    "arr_2d[1:3,3:5]"
   ]
  }
 ],
 "metadata": {
  "kernelspec": {
   "display_name": "Python 3",
   "language": "python",
   "name": "python3"
  },
  "language_info": {
   "codemirror_mode": {
    "name": "ipython",
    "version": 3
   },
   "file_extension": ".py",
   "mimetype": "text/x-python",
   "name": "python",
   "nbconvert_exporter": "python",
   "pygments_lexer": "ipython3",
   "version": "3.7.6"
  }
 },
 "nbformat": 4,
 "nbformat_minor": 2
}
