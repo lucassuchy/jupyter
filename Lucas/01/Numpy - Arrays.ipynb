{
 "cells": [
  {
   "cell_type": "markdown",
   "metadata": {},
   "source": [
    "# Numpy\n",
    "\n",
    "O numpy é uma biblioteca de algebra lienar para python, \n",
    "\n",
    "\n",
    "Os arrays do numpy são a parte mais importante do numpy\n",
    "\n",
    "Os arrays vem ou e vetores ou em matrizes\n",
    "\n",
    "\n",
    "Vetores são arrays de 1d\n",
    "Matrizes são arrays em 2d(podem ter apenas uma coluna ou apenas uma linha)\n",
    "\n",
    "---\n",
    "\n",
    "## Array\n",
    "\n",
    "Começamos criando uma lista normal no python,\n",
    "\n",
    "`` my_list = [1,2,3] ``\n",
    "\n",
    "Que armazena normalmente uma lista.\n",
    "\n",
    "Agora, se importarmos a biblioteca numpy \n",
    "\n",
    "`` import numpy as np ``\n",
    "\n",
    "Conseguimos trabalhar melhor a lista.\n",
    "\n",
    "Podemos transformar a lista em um array por exemplo\n",
    "\n",
    "``array = np.array(my_list) ``\n",
    "\n",
    "e dessa forma, quando chamarmos a variavel array, ela vai retornar o seguinte \n",
    "\n",
    "`` array([1, 2, 3]) `` \n",
    "\n",
    "Um array, com um unico item, bidemensional.\n",
    "\n",
    "Da mesma forma, conseguimos trabalhar com matrizes\n",
    "Partindo de uma matriz simples, temos:\n",
    "\n",
    "``my_matriz = [[1,2,3],[4,5,6],[7,8,8]]``\n",
    "\n",
    "Dessa forma, quando passamos o conteudo pra função array do numpy, ele retorna um vetor tridimensional.\n",
    "\n",
    "``np.array(my_matriz)``  que vai retornar\n",
    "\n",
    "`` array([[1, 2, 3],\n",
    "       [4, 5, 6],\n",
    "       [7, 8, 8]])``\n",
    "       \n",
    "Qual é a utilidade disso? até agora não entendi\n",
    "\n",
    "---\n",
    "\n",
    "### Arange()\n",
    "\n",
    "\n",
    "O numpy tambem tem uma função similar com a ``range()`` do python\n",
    "\n",
    "A função no numpy porem, trabalha com 3 argumentos.\n",
    "\n",
    "``np.arange(0,10) ``\n",
    "\n",
    "\n",
    "Quando executamos isso, o pytho retorna o seguinte:\n",
    "\n",
    "``array([0, 1, 2, 3, 4, 5, 6, 7, 8, 9])``\n",
    "\n",
    "Por que. A funçao arange, o primeiro argumento é ponto inicial, o pyhton começa com o index zero, então começamos no zero, e ele vai até o 10 mas não inclui, quando ele chega no 10 ele para de incrementar a lista, e o retorno é um **array**.\n",
    "Na função arange, o terceiro argumento é o momento que o conteudo pula pro proximo, ou seja, se utilizarmos\n",
    "\n",
    "``np.arange(0,11,2) ``\n",
    "\n",
    "\n",
    "O pyhton vai retornar\n",
    "\n",
    "``array([ 0,  2,  4,  6,  8, 10])``\n",
    "\n",
    "Pq foi o momento que falamos pra ele pular para o proximo elemento\n",
    "\n",
    "---\n",
    "## Zeros()\n",
    "\n",
    "\n",
    "De forma similar, temos a função zeros().\n",
    "\n",
    "Ela cria um array contendo apenas zeros.\n",
    "\n",
    "``np.zeros(3) `` \n",
    "\n",
    "Retorna\n",
    "\n",
    "`` array([0., 0., 0.]) ``\n",
    "\n",
    "Conseguimos porem, trabalhar em 3 dimensões aqui.\n",
    "Utilizando a função zeros podemos gerar o seguinte\n",
    "\n",
    "``np.zeros((3,4))``\n",
    "\n",
    "\n",
    "A função aceita receber como parametro uma tupla, com as coordenadas da matriz que desejamos gerar, e por consequencia se chamamos a função, ela retorna \n",
    "\n",
    "``array([[0., 0., 0., 0.],\n",
    "       [0., 0., 0., 0.],\n",
    "       [0., 0., 0., 0.]])``\n",
    "       \n",
    " \n",
    "---\n",
    "\n",
    "## Ones()\n",
    "\n",
    "Da mesma forma, o ones, alimenta um array com 1.\n",
    "\n",
    "``np.ones(4)``\n",
    "\n",
    "retorna \n",
    "\n",
    "``array([1., 1., 1., 1.])``\n",
    "\n",
    "E se passarmos uma tupla com as coordenadas\n",
    "\n",
    "``np.ones((5,5))``\n",
    "\n",
    "O python retorna\n",
    "\n",
    "``array([[1., 1., 1., 1., 1.],\n",
    "       [1., 1., 1., 1., 1.],\n",
    "       [1., 1., 1., 1., 1.],\n",
    "       [1., 1., 1., 1., 1.],\n",
    "       [1., 1., 1., 1., 1.]])``\n",
    "       \n",
    "---\n",
    "\n",
    "## Linspace()\n",
    "\n",
    "O linspace é similar com o ``arange()``  mas funciona diferente\n",
    "\n",
    "Ele gera um array, **bidimensional**.\n",
    "\n",
    "``np.linspace(0,5,4)``\n",
    "\n",
    "A função recebe 3 parametros, o inicio, o fim e a quantidade de divisões que serão feitas do inicio até o elemento final, ou seja, o retorno da função acima vai ser \n",
    "\n",
    "``array([0.        , 1.66666667, 3.33333333, 5.        ])``\n",
    "\n",
    "Um array, com 4 elementos, sendo o primeiro o elemento que foi dado como inicio, e o ultimo o elemento final.\n",
    "\n",
    "---\n",
    "\n",
    "## eye()\n",
    "\n",
    "A função ``eye()`` gera uma matriz identidade, ou seja, a linha diagonal é composta por 1, e o resto dos elementos são zeros.\n",
    "\n",
    "A função recebe um parametro unico, que é quantidade de elementos que a matriz vai ter, é só um elemento por ser uma matriz quadrada sempre.\n",
    "\n",
    "``np.eye(5)`` \n",
    "\n",
    "Retorna o seguinte resultado\n",
    "\n",
    "``array([[1., 0., 0., 0., 0.],\n",
    "       [0., 1., 0., 0., 0.],\n",
    "       [0., 0., 1., 0., 0.],\n",
    "       [0., 0., 0., 1., 0.],\n",
    "       [0., 0., 0., 0., 1.]])``\n",
    "       \n",
    "       \n",
    "---\n",
    "Vale dar uma olhada nas funções.\n",
    "``np.random.<tab>``\n",
    "\n",
    "## np.random.rand()\n",
    "\n",
    "No numpy, existem varias formas de popular listas com numeros aleatorios entre 0 e 1.\n",
    "\n",
    "``np.random.rand(4)``\n",
    "    \n",
    "    \n",
    "Vai retornar algo similar com\n",
    "\n",
    "``array([0.03016177, 0.09913604, 0.07849943, 0.02958948])``\n",
    "\n",
    "A função pode gerar arrays de duas dimensões, só que, aqui ao inves do que foi feito anteriormente, só precisamos passar as coordenadas.\n",
    "\n",
    "``np.random.rand(5,3)``\n",
    "\n",
    "Vai retornar algo similar com\n",
    "\n",
    "``array([[0.60906242, 0.96936401, 0.73594521],\n",
    "       [0.00175455, 0.91728094, 0.47468791],\n",
    "       [0.26374371, 0.97116156, 0.48839286],\n",
    "       [0.62737613, 0.65366933, 0.78594883],\n",
    "       [0.09566105, 0.84459024, 0.63480792]])``\n",
    "       \n",
    "Sabemos que é de duas dimensões apenas pelas duas chaves logo após os paranteses.\n",
    "\n",
    "---\n",
    "\n",
    "## np.random.randn()\n",
    "\n",
    "Aqui, iremos gerar um array com numeros aleatorios baseados na distribuição gaussiana, eu não tenho nem ideia de como isso funciona\n",
    "\n",
    "Quando chamamos a função\n",
    "\n",
    "``np.random.randn(5)`` \n",
    "\n",
    "Retornamos algo similar com \n",
    "\n",
    "`` array([-0.80379066,  0.82267513, -0.25327063, -2.01766659, -1.37231566])``\n",
    "\n",
    "A função tambem pode gerar uma matriz de 3 dimensões, mas não precisa ser passado uma tupla, apenas as coordenadas\n",
    "\n",
    "\n",
    "``np.random.randn(4,3)``\n",
    "\n",
    "Vai retornar algo similar com\n",
    "\n",
    "``array([[ 1.40127254,  1.50152994,  0.32566803],\n",
    "       [ 1.02160111,  1.34391654,  0.63664436],\n",
    "       [-0.13289456, -0.46988342, -0.06743487],\n",
    "       [-0.30368728, -1.162309  , -0.79853159]])``\n",
    "       \n",
    "       \n",
    "---\n",
    "\n",
    "## np.random.randint()\n",
    "\n",
    "A função gera numero inteiros aleatorios, ela recebe 3 parametros, mas aceita se for passado apenas 2\n",
    "\n",
    "``np.random.randint(1,100)``\n",
    " \n",
    " \n",
    "Vai retornar um unico inteiro aleatorio, entre 1(inclusive) e 100(não inclusive)\n",
    "\n",
    "``np.random.randint(1,100,10)``\n",
    "\n",
    "Vai retornar uma lista de 10 numeros aleatorios, em um array, entre os numeros 1 e 100(não incluso), ficando com algo similar a \n",
    "\n",
    "``array([78, 61,  5, 73, 34, 65, 59,  7, 21, 56])``\n",
    "\n",
    "---"
   ]
  },
  {
   "cell_type": "code",
   "execution_count": 19,
   "metadata": {},
   "outputs": [],
   "source": [
    "my_list = [1,2,3]"
   ]
  },
  {
   "cell_type": "code",
   "execution_count": 2,
   "metadata": {},
   "outputs": [
    {
     "data": {
      "text/plain": [
       "[1, 2, 3]"
      ]
     },
     "execution_count": 2,
     "metadata": {},
     "output_type": "execute_result"
    }
   ],
   "source": [
    "my_list\n"
   ]
  },
  {
   "cell_type": "code",
   "execution_count": 3,
   "metadata": {},
   "outputs": [],
   "source": [
    "import numpy as np"
   ]
  },
  {
   "cell_type": "code",
   "execution_count": 4,
   "metadata": {},
   "outputs": [
    {
     "data": {
      "text/plain": [
       "array([1, 2, 3])"
      ]
     },
     "execution_count": 4,
     "metadata": {},
     "output_type": "execute_result"
    }
   ],
   "source": [
    "np.array(my_list)"
   ]
  },
  {
   "cell_type": "code",
   "execution_count": 5,
   "metadata": {},
   "outputs": [],
   "source": [
    "array1 = np.array(my_list)"
   ]
  },
  {
   "cell_type": "code",
   "execution_count": 6,
   "metadata": {},
   "outputs": [
    {
     "data": {
      "text/plain": [
       "array([1, 2, 3])"
      ]
     },
     "execution_count": 6,
     "metadata": {},
     "output_type": "execute_result"
    }
   ],
   "source": [
    "array1"
   ]
  },
  {
   "cell_type": "code",
   "execution_count": 7,
   "metadata": {},
   "outputs": [],
   "source": [
    "my_matriz = [[1,2,3],[4,5,6],[7,8,8]]"
   ]
  },
  {
   "cell_type": "code",
   "execution_count": 8,
   "metadata": {},
   "outputs": [
    {
     "data": {
      "text/plain": [
       "array([[1, 2, 3],\n",
       "       [4, 5, 6],\n",
       "       [7, 8, 8]])"
      ]
     },
     "execution_count": 8,
     "metadata": {},
     "output_type": "execute_result"
    }
   ],
   "source": [
    "np.array(my_matriz)"
   ]
  },
  {
   "cell_type": "code",
   "execution_count": 9,
   "metadata": {},
   "outputs": [
    {
     "data": {
      "text/plain": [
       "array([0, 1, 2, 3, 4, 5, 6, 7, 8, 9])"
      ]
     },
     "execution_count": 9,
     "metadata": {},
     "output_type": "execute_result"
    }
   ],
   "source": [
    "np.arange(0,10)"
   ]
  },
  {
   "cell_type": "code",
   "execution_count": 16,
   "metadata": {},
   "outputs": [
    {
     "data": {
      "text/plain": [
       "array([ 0,  2,  4,  6,  8, 10])"
      ]
     },
     "execution_count": 16,
     "metadata": {},
     "output_type": "execute_result"
    }
   ],
   "source": [
    "np.arange(0,11,2) "
   ]
  },
  {
   "cell_type": "code",
   "execution_count": 17,
   "metadata": {},
   "outputs": [
    {
     "data": {
      "text/plain": [
       "array([0., 0., 0.])"
      ]
     },
     "execution_count": 17,
     "metadata": {},
     "output_type": "execute_result"
    }
   ],
   "source": [
    "np.zeros(3)"
   ]
  },
  {
   "cell_type": "code",
   "execution_count": 24,
   "metadata": {},
   "outputs": [
    {
     "data": {
      "text/plain": [
       "array([[0., 0., 0., 0.],\n",
       "       [0., 0., 0., 0.],\n",
       "       [0., 0., 0., 0.]])"
      ]
     },
     "execution_count": 24,
     "metadata": {},
     "output_type": "execute_result"
    }
   ],
   "source": [
    "np.zeros((3,4))"
   ]
  },
  {
   "cell_type": "code",
   "execution_count": 25,
   "metadata": {},
   "outputs": [
    {
     "data": {
      "text/plain": [
       "array([1., 1., 1., 1.])"
      ]
     },
     "execution_count": 25,
     "metadata": {},
     "output_type": "execute_result"
    }
   ],
   "source": [
    "np.ones(4)"
   ]
  },
  {
   "cell_type": "code",
   "execution_count": 20,
   "metadata": {},
   "outputs": [
    {
     "data": {
      "text/plain": [
       "array([[1., 1., 1., 1., 1.],\n",
       "       [1., 1., 1., 1., 1.],\n",
       "       [1., 1., 1., 1., 1.],\n",
       "       [1., 1., 1., 1., 1.],\n",
       "       [1., 1., 1., 1., 1.]])"
      ]
     },
     "execution_count": 20,
     "metadata": {},
     "output_type": "execute_result"
    }
   ],
   "source": [
    "np.ones((5,5))"
   ]
  },
  {
   "cell_type": "code",
   "execution_count": 26,
   "metadata": {},
   "outputs": [
    {
     "data": {
      "text/plain": [
       "array([0.        , 1.66666667, 3.33333333, 5.        ])"
      ]
     },
     "execution_count": 26,
     "metadata": {},
     "output_type": "execute_result"
    }
   ],
   "source": [
    "np.linspace(0,5,4)"
   ]
  },
  {
   "cell_type": "code",
   "execution_count": 27,
   "metadata": {},
   "outputs": [
    {
     "data": {
      "text/plain": [
       "array([[1., 0., 0., 0., 0.],\n",
       "       [0., 1., 0., 0., 0.],\n",
       "       [0., 0., 1., 0., 0.],\n",
       "       [0., 0., 0., 1., 0.],\n",
       "       [0., 0., 0., 0., 1.]])"
      ]
     },
     "execution_count": 27,
     "metadata": {},
     "output_type": "execute_result"
    }
   ],
   "source": [
    "np.eye(5)"
   ]
  },
  {
   "cell_type": "code",
   "execution_count": 28,
   "metadata": {},
   "outputs": [
    {
     "data": {
      "text/plain": [
       "array([0.03016177, 0.09913604, 0.07849943, 0.02958948])"
      ]
     },
     "execution_count": 28,
     "metadata": {},
     "output_type": "execute_result"
    }
   ],
   "source": [
    "np.random.rand(4)"
   ]
  },
  {
   "cell_type": "code",
   "execution_count": 31,
   "metadata": {},
   "outputs": [
    {
     "data": {
      "text/plain": [
       "array([[0.60906242, 0.96936401, 0.73594521],\n",
       "       [0.00175455, 0.91728094, 0.47468791],\n",
       "       [0.26374371, 0.97116156, 0.48839286],\n",
       "       [0.62737613, 0.65366933, 0.78594883],\n",
       "       [0.09566105, 0.84459024, 0.63480792]])"
      ]
     },
     "execution_count": 31,
     "metadata": {},
     "output_type": "execute_result"
    }
   ],
   "source": [
    "np.random.rand(5,3)"
   ]
  },
  {
   "cell_type": "code",
   "execution_count": 32,
   "metadata": {},
   "outputs": [
    {
     "data": {
      "text/plain": [
       "array([-0.80379066,  0.82267513, -0.25327063, -2.01766659, -1.37231566])"
      ]
     },
     "execution_count": 32,
     "metadata": {},
     "output_type": "execute_result"
    }
   ],
   "source": [
    "np.random.randn(5)"
   ]
  },
  {
   "cell_type": "code",
   "execution_count": 36,
   "metadata": {},
   "outputs": [
    {
     "data": {
      "text/plain": [
       "array([[ 1.40127254,  1.50152994,  0.32566803],\n",
       "       [ 1.02160111,  1.34391654,  0.63664436],\n",
       "       [-0.13289456, -0.46988342, -0.06743487],\n",
       "       [-0.30368728, -1.162309  , -0.79853159]])"
      ]
     },
     "execution_count": 36,
     "metadata": {},
     "output_type": "execute_result"
    }
   ],
   "source": [
    "np.random.randn(4,3)"
   ]
  },
  {
   "cell_type": "code",
   "execution_count": 37,
   "metadata": {},
   "outputs": [
    {
     "data": {
      "text/plain": [
       "array([78, 61,  5, 73, 34, 65, 59,  7, 21, 56])"
      ]
     },
     "execution_count": 37,
     "metadata": {},
     "output_type": "execute_result"
    }
   ],
   "source": [
    "np.random.randint(1,100,10)"
   ]
  },
  {
   "cell_type": "markdown",
   "metadata": {},
   "source": [
    "# Arrays\n",
    "\n",
    "Vamo popular um array\n",
    "\n",
    "`` arr = np.arange(25)``\n",
    "\n",
    "Quando chamamos de volta a função, temos um array, de duas dimensões, populado pelos elementos 0 até o 24.\n",
    "\n",
    "`` array([ 0,  1,  2,  3,  4,  5,  6,  7,  8,  9, 10, 11, 12, 13, 14, 15, 16, 17, 18, 19, 20, 21, 22, 23, 24])``\n",
    "\n",
    "de forma similar, podemos gerar \n",
    "\n",
    "``np.random.randint(0,50,10)``\n",
    "\n",
    "Vai gerar um array, de inteiros, entre 0 e 50(não incluso) mas com 10 elementos\n",
    "\n",
    "``array([12, 42,  2, 22,  3, 46, 43,  8, 49, 14])`` \n",
    "\n",
    "Agora, se queremos pegar o primeiro array, e transformar ele em tridimencional, podemos utilizar a função ``reshape``\n",
    "\n",
    "## reshape()\n",
    "\n",
    "A função ``reshape()`` remondula o array criado, ela recebe dois parametros, onde seriam as dimenções do array que vai ser retornado.\n",
    "Quando rodamos \n",
    "\n",
    "``arr.reshape(5,5)``\n",
    "\n",
    "O python retorna \n",
    "\n",
    "``array([[ 0,  1,  2,  3,  4],\n",
    "       [ 5,  6,  7,  8,  9],\n",
    "       [10, 11, 12, 13, 14],\n",
    "       [15, 16, 17, 18, 19],\n",
    "       [20, 21, 22, 23, 24]])``\n",
    "       \n",
    "Que é um array de 3 dimensões, que contem os mesmos elementos que o array inicial.\n",
    "\n",
    "**O python vai retornar um erro se ele não conseguir preencher a matriz completamente(para verificar podemos multiplicar os numeros passados na função reshape, o resultado tem que ser igual ao total de elementos do array)**\n",
    "\n",
    "---\n",
    "\n",
    "## .max() .min() .argmax() .argmin()\n",
    "\n",
    "A função ``max()`` retorna o maior valor de um array\n",
    "\n",
    "A função ``min()`` retorna o menor valor de um array\n",
    "\n",
    "Ou seja,\n",
    "\n",
    "``brr.max()`` \n",
    "\n",
    "Retorna ``49`` que é o maior elemento do array brr que foi criado anteriormente\n",
    "\n",
    "``brr.min()``\n",
    "\n",
    "Retorna ``2`` que é o menor elemento do array brr que foi criado anteriormente\n",
    "\n",
    "---\n",
    "\n",
    "A função ``.argmax()`` retorna a posição no array do maior valor\n",
    "\n",
    "A função ``.argmin()`` retorna a posição no array do menor valor\n",
    "\n",
    "Ou seja,\n",
    "\n",
    "``brr.argmax()`` \n",
    "\n",
    "Retorna ``8`` que é o index do ``49`` que é o maior numero do array\n",
    "\n",
    "``brr.argmin()``\n",
    "\n",
    "Retorna ``2`` que é o index do ``2`` que é o menor numero do array\n",
    "\n",
    "---\n",
    "\n",
    "## shape\n",
    "\n",
    "A função shape serve para descobrirmos a dimensão do array, o indice da matriz dele\n",
    " Por exemplo ``arr.shape`` Retorna ``(25,)`` ou seja, é bidimensional, e contem 25 elementos. Em outras palavras, é uma vertical unica, com 25 colunas\n",
    " \n",
    " Agora, quando utilizamos ``crr.shape`` Retornamos ``(5,5)`` que é as medidas que foram passadas quando realizamos o reshape do array ``arr``\n",
    " \n",
    " ---\n",
    " \n",
    " ## dtype\n",
    " \n",
    " A função retorna o tipo de dado que esta armazenado no array\n",
    " \n",
    " ``arr.dtype`` \n",
    " \n",
    " Retorna\n",
    " \n",
    " ``dtype('int64')``\n",
    " \n",
    " que é o tipo de dado armazenado no array\n",
    " \n",
    " "
   ]
  },
  {
   "cell_type": "code",
   "execution_count": 51,
   "metadata": {},
   "outputs": [],
   "source": [
    "arr = np.arange(25)"
   ]
  },
  {
   "cell_type": "code",
   "execution_count": 45,
   "metadata": {},
   "outputs": [
    {
     "data": {
      "text/plain": [
       "array([ 0,  1,  2,  3,  4,  5,  6,  7,  8,  9, 10, 11, 12, 13, 14, 15, 16,\n",
       "       17, 18, 19, 20, 21, 22, 23, 24])"
      ]
     },
     "execution_count": 45,
     "metadata": {},
     "output_type": "execute_result"
    }
   ],
   "source": [
    "arr"
   ]
  },
  {
   "cell_type": "code",
   "execution_count": 42,
   "metadata": {},
   "outputs": [],
   "source": [
    "brr = np.random.randint(0,50,10)"
   ]
  },
  {
   "cell_type": "code",
   "execution_count": 48,
   "metadata": {},
   "outputs": [
    {
     "data": {
      "text/plain": [
       "array([12, 42,  2, 22,  3, 46, 43,  8, 49, 14])"
      ]
     },
     "execution_count": 48,
     "metadata": {},
     "output_type": "execute_result"
    }
   ],
   "source": [
    "brr"
   ]
  },
  {
   "cell_type": "code",
   "execution_count": 47,
   "metadata": {},
   "outputs": [
    {
     "data": {
      "text/plain": [
       "array([[ 0,  1,  2,  3,  4],\n",
       "       [ 5,  6,  7,  8,  9],\n",
       "       [10, 11, 12, 13, 14],\n",
       "       [15, 16, 17, 18, 19],\n",
       "       [20, 21, 22, 23, 24]])"
      ]
     },
     "execution_count": 47,
     "metadata": {},
     "output_type": "execute_result"
    }
   ],
   "source": [
    "arr.reshape(5,5)"
   ]
  },
  {
   "cell_type": "code",
   "execution_count": 49,
   "metadata": {},
   "outputs": [
    {
     "data": {
      "text/plain": [
       "49"
      ]
     },
     "execution_count": 49,
     "metadata": {},
     "output_type": "execute_result"
    }
   ],
   "source": [
    "brr.max()"
   ]
  },
  {
   "cell_type": "code",
   "execution_count": 50,
   "metadata": {},
   "outputs": [
    {
     "data": {
      "text/plain": [
       "2"
      ]
     },
     "execution_count": 50,
     "metadata": {},
     "output_type": "execute_result"
    }
   ],
   "source": [
    "brr.min()"
   ]
  },
  {
   "cell_type": "code",
   "execution_count": 52,
   "metadata": {},
   "outputs": [
    {
     "data": {
      "text/plain": [
       "array([12, 42,  2, 22,  3, 46, 43,  8, 49, 14])"
      ]
     },
     "execution_count": 52,
     "metadata": {},
     "output_type": "execute_result"
    }
   ],
   "source": [
    "brr"
   ]
  },
  {
   "cell_type": "code",
   "execution_count": 53,
   "metadata": {},
   "outputs": [
    {
     "data": {
      "text/plain": [
       "8"
      ]
     },
     "execution_count": 53,
     "metadata": {},
     "output_type": "execute_result"
    }
   ],
   "source": [
    "brr.argmax()"
   ]
  },
  {
   "cell_type": "code",
   "execution_count": 54,
   "metadata": {},
   "outputs": [
    {
     "data": {
      "text/plain": [
       "2"
      ]
     },
     "execution_count": 54,
     "metadata": {},
     "output_type": "execute_result"
    }
   ],
   "source": [
    "brr.argmin()"
   ]
  },
  {
   "cell_type": "code",
   "execution_count": 55,
   "metadata": {},
   "outputs": [
    {
     "data": {
      "text/plain": [
       "array([ 0,  1,  2,  3,  4,  5,  6,  7,  8,  9, 10, 11, 12, 13, 14, 15, 16,\n",
       "       17, 18, 19, 20, 21, 22, 23, 24])"
      ]
     },
     "execution_count": 55,
     "metadata": {},
     "output_type": "execute_result"
    }
   ],
   "source": [
    "arr"
   ]
  },
  {
   "cell_type": "code",
   "execution_count": 56,
   "metadata": {},
   "outputs": [],
   "source": [
    "crr = arr.reshape(5,5)"
   ]
  },
  {
   "cell_type": "code",
   "execution_count": 57,
   "metadata": {},
   "outputs": [
    {
     "data": {
      "text/plain": [
       "array([[ 0,  1,  2,  3,  4],\n",
       "       [ 5,  6,  7,  8,  9],\n",
       "       [10, 11, 12, 13, 14],\n",
       "       [15, 16, 17, 18, 19],\n",
       "       [20, 21, 22, 23, 24]])"
      ]
     },
     "execution_count": 57,
     "metadata": {},
     "output_type": "execute_result"
    }
   ],
   "source": [
    "crr"
   ]
  },
  {
   "cell_type": "code",
   "execution_count": 58,
   "metadata": {},
   "outputs": [
    {
     "data": {
      "text/plain": [
       "(25,)"
      ]
     },
     "execution_count": 58,
     "metadata": {},
     "output_type": "execute_result"
    }
   ],
   "source": [
    "arr.shape"
   ]
  },
  {
   "cell_type": "code",
   "execution_count": 59,
   "metadata": {},
   "outputs": [
    {
     "data": {
      "text/plain": [
       "(5, 5)"
      ]
     },
     "execution_count": 59,
     "metadata": {},
     "output_type": "execute_result"
    }
   ],
   "source": [
    "crr.shape"
   ]
  },
  {
   "cell_type": "code",
   "execution_count": 60,
   "metadata": {},
   "outputs": [
    {
     "data": {
      "text/plain": [
       "dtype('int64')"
      ]
     },
     "execution_count": 60,
     "metadata": {},
     "output_type": "execute_result"
    }
   ],
   "source": [
    "arr.dtype"
   ]
  },
  {
   "cell_type": "code",
   "execution_count": null,
   "metadata": {},
   "outputs": [],
   "source": []
  }
 ],
 "metadata": {
  "kernelspec": {
   "display_name": "Python 3",
   "language": "python",
   "name": "python3"
  },
  "language_info": {
   "codemirror_mode": {
    "name": "ipython",
    "version": 3
   },
   "file_extension": ".py",
   "mimetype": "text/x-python",
   "name": "python",
   "nbconvert_exporter": "python",
   "pygments_lexer": "ipython3",
   "version": "3.7.4"
  }
 },
 "nbformat": 4,
 "nbformat_minor": 2
}
