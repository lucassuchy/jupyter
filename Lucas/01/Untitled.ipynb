{
 "cells": [
  {
   "cell_type": "markdown",
   "metadata": {},
   "source": [
    "# Numpy\n",
    "\n",
    "O numpy é uma biblioteca de algebra lienar para python, \n",
    "\n",
    "\n",
    "Os arrays do numpy são a parte mais importante do numpy\n",
    "\n",
    "Os arrays vem ou e vetores ou em matrizes\n",
    "\n",
    "\n",
    "Vetores são arrays de 1d\n",
    "Matrizes são arrays em 2d(podem ter apenas uma coluna ou apenas uma linha)\n",
    "\n",
    "\n"
   ]
  }
 ],
 "metadata": {
  "kernelspec": {
   "display_name": "Python 3",
   "language": "python",
   "name": "python3"
  },
  "language_info": {
   "codemirror_mode": {
    "name": "ipython",
    "version": 3
   },
   "file_extension": ".py",
   "mimetype": "text/x-python",
   "name": "python",
   "nbconvert_exporter": "python",
   "pygments_lexer": "ipython3",
   "version": "3.7.4"
  }
 },
 "nbformat": 4,
 "nbformat_minor": 2
}
